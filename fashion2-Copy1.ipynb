{
 "cells": [
  {
   "cell_type": "code",
   "execution_count": 49,
   "id": "b08cf080-3079-4608-9405-7804a8f0de90",
   "metadata": {},
   "outputs": [
    {
     "name": "stdout",
     "output_type": "stream",
     "text": [
      "# GPUs:  1\n",
      "CPU times: total: 0 ns\n",
      "Wall time: 997 µs\n"
     ]
    }
   ],
   "source": [
    "%%time\n",
    "import numpy as np\n",
    "import pandas as pd\n",
    "import seaborn as sns\n",
    "import matplotlib.pyplot as plt\n",
    "\n",
    "sns.set_palette(\"afmhot\")\n",
    "# sns.set_palette(\"twilight\")\n",
    "# sns.set_style(\"darkgrid\",{\"axes.facebolor\":\"0.90\"})\n",
    "sns.set_context(\"notebook\", font_scale=1.5, rc={\"lines.linewidth\":1.5})\n",
    "sns.set_style(\"whitegrid\")\n",
    "import pylab\n",
    "pylab.rcParams['figure.figsize'] = (15, 8)\n",
    "plt.style.use('dark_background')\n",
    "\n",
    "\n",
    "import tensorflow as tf\n",
    "print(\"# GPUs: \", len(tf.config.experimental.list_physical_devices(\"GPU\")))\n",
    "\n",
    "from tensorflow.python.client import device_lib\n",
    "from sklearn.model_selection import train_test_split\n",
    "from sklearn.preprocessing import MinMaxScaler\n",
    "from tensorflow.keras.models import Sequential\n",
    "from tensorflow.keras.layers import Dense, Flatten\n",
    "import tensorflow.keras as tfk\n",
    "from sklearn.metrics import median_absolute_error as mae, mean_squared_error as mse,\\\n",
    "explained_variance_score as evs"
   ]
  },
  {
   "cell_type": "code",
   "execution_count": null,
   "id": "5645e53a-bc2a-4e5b-b402-0f564648c3c8",
   "metadata": {},
   "outputs": [],
   "source": []
  },
  {
   "cell_type": "code",
   "execution_count": 50,
   "id": "fd040538-ed31-470a-a1b2-19b7ec40414f",
   "metadata": {},
   "outputs": [
    {
     "name": "stdout",
     "output_type": "stream",
     "text": [
      "# GPUs:  1\n"
     ]
    }
   ],
   "source": [
    "import tensorflow as tf\n",
    "print(\"# GPUs: \", len(tf.config.experimental.list_physical_devices(\"GPU\")))"
   ]
  },
  {
   "cell_type": "code",
   "execution_count": 51,
   "id": "24702c3b-fd8c-4450-8d37-fae06b480952",
   "metadata": {},
   "outputs": [],
   "source": [
    "fashion_mnist = tf.keras.datasets.fashion_mnist"
   ]
  },
  {
   "cell_type": "code",
   "execution_count": 52,
   "id": "0c9b82db-a2a6-432e-9d57-54e2d840043e",
   "metadata": {},
   "outputs": [],
   "source": [
    "(train_images, train_labels), (test_images, test_labels) = fashion_mnist.load_data() "
   ]
  },
  {
   "cell_type": "code",
   "execution_count": 54,
   "id": "1e786bdc-c94a-4fd5-a8ad-3ba537860507",
   "metadata": {},
   "outputs": [
    {
     "name": "stdout",
     "output_type": "stream",
     "text": [
      "CPU times: total: 156 ms\n",
      "Wall time: 161 ms\n"
     ]
    }
   ],
   "source": [
    "%%time\n",
    "train_images = train_images/255.00\n",
    "test_images = test_images/255.00"
   ]
  },
  {
   "cell_type": "code",
   "execution_count": 15,
   "id": "34406aee-4960-475c-a28e-e22c3e01a49e",
   "metadata": {},
   "outputs": [
    {
     "name": "stdout",
     "output_type": "stream",
     "text": [
      "Epoch 1/5\n",
      "1875/1875 [==============================] - 5s 2ms/step - loss: 0.4897 - accuracy: 0.8276 - val_loss: 0.4394 - val_accuracy: 0.8431\n",
      "Epoch 2/5\n",
      "1875/1875 [==============================] - 4s 2ms/step - loss: 0.3704 - accuracy: 0.8651 - val_loss: 0.4333 - val_accuracy: 0.8407\n",
      "Epoch 3/5\n",
      "1875/1875 [==============================] - 4s 2ms/step - loss: 0.3306 - accuracy: 0.8794 - val_loss: 0.3587 - val_accuracy: 0.8695\n",
      "Epoch 4/5\n",
      "1875/1875 [==============================] - 4s 2ms/step - loss: 0.3087 - accuracy: 0.8862 - val_loss: 0.3812 - val_accuracy: 0.8617\n",
      "Epoch 5/5\n",
      "1875/1875 [==============================] - 4s 2ms/step - loss: 0.2898 - accuracy: 0.8931 - val_loss: 0.3422 - val_accuracy: 0.8779\n",
      "CPU times: total: 28.5 s\n",
      "Wall time: 20.7 s\n"
     ]
    },
    {
     "data": {
      "text/plain": [
       "<keras.callbacks.History at 0x1ea38053640>"
      ]
     },
     "execution_count": 15,
     "metadata": {},
     "output_type": "execute_result"
    }
   ],
   "source": [
    "%%time\n",
    "model = Sequential([\n",
    "    tfk.layers.Flatten(input_shape=(28,28)),\n",
    "    tfk.layers.Dense(167, activation='relu'),\n",
    "\n",
    "    tfk.layers.Dense(10)]\n",
    ")\n",
    "model.compile(optimizer='adam', loss=tfk.losses.SparseCategoricalCrossentropy(from_logits=True),\n",
    "             metrics=['accuracy'])\n",
    "model.fit(train_images,train_labels,epochs=5,validation_data=(test_images,test_labels))\n",
    "\n"
   ]
  },
  {
   "cell_type": "code",
   "execution_count": null,
   "id": "d444b765-97a6-412b-a968-a8f980e355c7",
   "metadata": {},
   "outputs": [],
   "source": []
  },
  {
   "cell_type": "code",
   "execution_count": 9,
   "id": "ce3bd0ec-cd64-4a05-9279-da49b9763e2e",
   "metadata": {},
   "outputs": [],
   "source": [
    "# model.save(\"8layers_50epochs_.h5\")"
   ]
  },
  {
   "cell_type": "code",
   "execution_count": 10,
   "id": "ef63727b-f6cd-4ade-b909-d423069c415f",
   "metadata": {},
   "outputs": [
    {
     "data": {
      "text/plain": [
       "1"
      ]
     },
     "execution_count": 10,
     "metadata": {},
     "output_type": "execute_result"
    }
   ],
   "source": [
    "len(model.layers)-2"
   ]
  },
  {
   "cell_type": "code",
   "execution_count": 11,
   "id": "f902f401-6205-42f5-8056-6e699d5063f7",
   "metadata": {},
   "outputs": [
    {
     "data": {
      "text/plain": [
       "<AxesSubplot:>"
      ]
     },
     "execution_count": 11,
     "metadata": {},
     "output_type": "execute_result"
    },
    {
     "data": {
      "image/png": "[encoded data removed]",
      "text/plain": [
       "<Figure size 1080x576 with 1 Axes>"
      ]
     },
     "metadata": {},
     "output_type": "display_data"
    }
   ],
   "source": [
    "pd.DataFrame(model.history.history).plot(color=['red','green','purple','teal'])\n",
    "# plt.savefig(\"20layers.png\")"
   ]
  },
  {
   "cell_type": "code",
   "execution_count": 13,
   "id": "6e114daa-e630-4928-9b7c-a51dd38165d9",
   "metadata": {},
   "outputs": [
    {
     "name": "stdout",
     "output_type": "stream",
     "text": [
      "313/313 [==============================] - 1s 2ms/step - loss: 0.3426 - accuracy: 0.8772\n",
      "CPU times: total: 1.06 s\n",
      "Wall time: 787 ms\n"
     ]
    },
    {
     "data": {
      "text/plain": [
       "[0.3425880968570709, 0.8772000074386597]"
      ]
     },
     "execution_count": 13,
     "metadata": {},
     "output_type": "execute_result"
    }
   ],
   "source": [
    "%%time\n",
    "## test_loss, test_acc = \n",
    "model.evaluate(test_images, test_labels, verbose=2)"
   ]
  },
  {
   "cell_type": "code",
   "execution_count": 14,
   "id": "bbe1b2ce-0b9c-4523-8ea9-bfd8b469241a",
   "metadata": {},
   "outputs": [
    {
     "name": "stdout",
     "output_type": "stream",
     "text": [
      "313/313 - 1s - loss: 0.3426 - accuracy: 0.8772 - 545ms/epoch - 2ms/step\n",
      "CPU times: total: 891 ms\n",
      "Wall time: 616 ms\n"
     ]
    },
    {
     "data": {
      "text/plain": [
       "[0.3425880968570709, 0.8772000074386597]"
      ]
     },
     "execution_count": 14,
     "metadata": {},
     "output_type": "execute_result"
    }
   ],
   "source": [
    "%%time\n",
    "## test_loss, test_acc = \n",
    "model.evaluate(test_images, test_labels, verbose=2)"
   ]
  },
  {
   "cell_type": "markdown",
   "id": "e530cfcd-3202-46d2-a3de-9153468b27ee",
   "metadata": {},
   "source": [
    "# <font color = 'hotpink'> `train`> `test` implies model is overfitting </font>"
   ]
  },
  {
   "cell_type": "markdown",
   "id": "51644aab-34dc-4493-b2bb-83c1e64b1b63",
   "metadata": {},
   "source": [
    "# <font color = 'limegreen'> Make Predictions </font>"
   ]
  },
  {
   "cell_type": "code",
   "execution_count": 86,
   "id": "87e2949d-0f07-46d2-92b3-c16a3dbaf3be",
   "metadata": {},
   "outputs": [],
   "source": [
    "probability_model = tf.keras.Sequential([model, \n",
    "                                         tf.keras.layers.Softmax()])"
   ]
  },
  {
   "cell_type": "code",
   "execution_count": 87,
   "id": "c9be90df-1316-41a0-9b66-88e80be283ef",
   "metadata": {},
   "outputs": [],
   "source": [
    "predictions = probability_model.predict(test_images)"
   ]
  },
  {
   "cell_type": "code",
   "execution_count": 99,
   "id": "78654507-8a08-49d1-9564-7e39a0a2559e",
   "metadata": {},
   "outputs": [
    {
     "data": {
      "text/plain": [
       "(array([0, 1, 2, 3, 4, 5, 6, 7, 8, 9]),\n",
       " [Text(0, 0, '0'),\n",
       "  Text(1, 0, '1'),\n",
       "  Text(2, 0, '2'),\n",
       "  Text(3, 0, '3'),\n",
       "  Text(4, 0, '4'),\n",
       "  Text(5, 0, '5'),\n",
       "  Text(6, 0, '6'),\n",
       "  Text(7, 0, '7'),\n",
       "  Text(8, 0, '8'),\n",
       "  Text(9, 0, '9')])"
      ]
     },
     "execution_count": 99,
     "metadata": {},
     "output_type": "execute_result"
    },
    {
     "data": {
      "image/png": "[encoded data removed]",
      "text/plain": [
       "<Figure size 1080x576 with 1 Axes>"
      ]
     },
     "metadata": {},
     "output_type": "display_data"
    }
   ],
   "source": [
    "pd.DataFrame(predictions[0]).plot(kind='bar')\n",
    "plt.xticks(rotation=360)"
   ]
  },
  {
   "cell_type": "code",
   "execution_count": 109,
   "id": "a342c98a-b3ca-45e7-ba0e-d40fc33243c8",
   "metadata": {},
   "outputs": [
    {
     "data": {
      "text/plain": [
       "(5, 0.4342889)"
      ]
     },
     "execution_count": 109,
     "metadata": {},
     "output_type": "execute_result"
    }
   ],
   "source": [
    "predictions[12].argmax(), predictions[12].max()"
   ]
  },
  {
   "cell_type": "code",
   "execution_count": 107,
   "id": "a17c093c-3333-49a1-b6d5-0666a8714b4d",
   "metadata": {},
   "outputs": [
    {
     "data": {
      "text/plain": [
       "<AxesSubplot:>"
      ]
     },
     "execution_count": 107,
     "metadata": {},
     "output_type": "execute_result"
    },
    {
     "data": {
      "image/png": "[encoded data removed]",
      "text/plain": [
       "<Figure size 1080x576 with 1 Axes>"
      ]
     },
     "metadata": {},
     "output_type": "display_data"
    }
   ],
   "source": [
    "pd.DataFrame(predictions[12]).plot(kind='bar')"
   ]
  },
  {
   "cell_type": "code",
   "execution_count": 111,
   "id": "fa36fa3d-d9fe-4f7b-9461-768f681355f0",
   "metadata": {},
   "outputs": [],
   "source": [
    "sns.set_context(\"notebook\", font_scale=1.125, rc={\"lines.linewidth\":1.23})\n"
   ]
  },
  {
   "cell_type": "code",
   "execution_count": 113,
   "id": "c14ea92c-2f15-4254-907e-6e2019db4d11",
   "metadata": {},
   "outputs": [
    {
     "name": "stdout",
     "output_type": "stream",
     "text": [
      "(28, 28)\n"
     ]
    }
   ],
   "source": [
    "# Grab an image from the test dataset.\n",
    "img = test_images[1]\n",
    "\n",
    "print(img.shape)"
   ]
  },
  {
   "cell_type": "code",
   "execution_count": 114,
   "id": "ccb71764-2501-49c4-a72c-fad8e5269f36",
   "metadata": {},
   "outputs": [
    {
     "name": "stdout",
     "output_type": "stream",
     "text": [
      "(1, 28, 28)\n"
     ]
    }
   ],
   "source": [
    "# Add the image to a batch where it's the only member.\n",
    "img = (np.expand_dims(img,0))\n",
    "\n",
    "print(img.shape)"
   ]
  },
  {
   "cell_type": "code",
   "execution_count": 124,
   "id": "138f0abe-15d0-4304-9fd7-ed7ba4ccdb41",
   "metadata": {},
   "outputs": [
    {
     "data": {
      "text/plain": [
       "(1, 28, 28)"
      ]
     },
     "execution_count": 124,
     "metadata": {},
     "output_type": "execute_result"
    }
   ],
   "source": [
    "img.shape"
   ]
  },
  {
   "cell_type": "code",
   "execution_count": 138,
   "id": "b0fbac48-2575-4b91-a1d5-b123e2fb677f",
   "metadata": {},
   "outputs": [],
   "source": [
    "def graph(xx):\n",
    "    _ = pd.DataFrame(xx)\n",
    "    sns.barplot(_)"
   ]
  },
  {
   "cell_type": "code",
   "execution_count": 139,
   "id": "a7b834f4-34ce-49e5-9a3b-d7057be599b9",
   "metadata": {},
   "outputs": [
    {
     "data": {
      "text/plain": [
       "array([[6.4142363e-08, 9.9999964e-01, 2.4116125e-09, 8.7983800e-08,\n",
       "        5.7790505e-08, 1.0840516e-11, 7.6799843e-08, 8.0763458e-22,\n",
       "        1.7560085e-11, 8.4414523e-17]], dtype=float32)"
      ]
     },
     "execution_count": 139,
     "metadata": {},
     "output_type": "execute_result"
    }
   ],
   "source": [
    "probability_model.predict(np.expand_dims(test_images[5],0))"
   ]
  },
  {
   "cell_type": "code",
   "execution_count": 115,
   "id": "7736652d-eb68-4f49-9fe0-2cde012bfb62",
   "metadata": {},
   "outputs": [
    {
     "name": "stdout",
     "output_type": "stream",
     "text": [
      "[[6.7567898e-06 3.4812940e-13 9.9952030e-01 1.6296537e-12 4.2767479e-04\n",
      "  1.6278768e-12 4.5254379e-05 8.8113597e-22 9.8581932e-10 9.2360595e-14]]\n"
     ]
    }
   ],
   "source": [
    "predictions_single = probability_model.predict(img)\n",
    "\n",
    "print(predictions_single)"
   ]
  },
  {
   "cell_type": "code",
   "execution_count": 116,
   "id": "b9b6ec88-c39e-4cb5-be9f-afff6d5972e0",
   "metadata": {},
   "outputs": [
    {
     "data": {
      "image/png": "[encoded data removed]",
      "text/plain": [
       "<Figure size 1080x576 with 1 Axes>"
      ]
     },
     "metadata": {},
     "output_type": "display_data"
    }
   ],
   "source": [
    "plot_value_array(1, predictions_single[0], test_labels)\n",
    "_ = plt.xticks(range(10), class_names, rotation=45)\n",
    "plt.show()"
   ]
  },
  {
   "cell_type": "code",
   "execution_count": 117,
   "id": "bb2a0060-eccb-4ece-9581-7b900e462c30",
   "metadata": {},
   "outputs": [
    {
     "data": {
      "text/plain": [
       "2"
      ]
     },
     "execution_count": 117,
     "metadata": {},
     "output_type": "execute_result"
    }
   ],
   "source": [
    "np.argmax(predictions_single[0])"
   ]
  },
  {
   "cell_type": "code",
   "execution_count": null,
   "id": "de807f2c-2fea-4daf-8432-242f105490f4",
   "metadata": {},
   "outputs": [],
   "source": []
  }
 ],
 "metadata": {
  "kernelspec": {
   "display_name": "tf500",
   "language": "python",
   "name": "tf500"
  },
  "language_info": {
   "codemirror_mode": {
    "name": "ipython",
    "version": 3
   },
   "file_extension": ".py",
   "mimetype": "text/x-python",
   "name": "python",
   "nbconvert_exporter": "python",
   "pygments_lexer": "ipython3",
   "version": "3.10.0"
  }
 },
 "nbformat": 4,
 "nbformat_minor": 5
}
