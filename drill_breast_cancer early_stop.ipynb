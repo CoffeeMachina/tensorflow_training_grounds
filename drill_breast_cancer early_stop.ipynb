{
 "cells": [
  {
   "cell_type": "code",
   "execution_count": 23,
   "id": "779630c9-0fb1-4f8c-bdbd-317e70efd019",
   "metadata": {},
   "outputs": [
    {
     "name": "stdout",
     "output_type": "stream",
     "text": [
      "CPU times: total: 0 ns\n",
      "Wall time: 997 µs\n"
     ]
    }
   ],
   "source": [
    "%%time\n",
    "from datetime import datetime\n",
    "a = datetime.now()\n",
    "\n",
    "import seaborn as sns\n",
    "import matplotlib.pyplot as plt\n",
    "import pandas as pd\n",
    "import numpy as np\n",
    "\n",
    "sns.set_palette(\"afmhot\")\n",
    "# sns.set_palette(\"twilight\")\n",
    "# sns.set_style(\"darkgrid\",{\"axes.facebolor\":\"0.90\"})\n",
    "sns.set_context(\"notebook\", font_scale=1.5, rc={\"lines.linewidth\":1.5})\n",
    "sns.set_style(\"whitegrid\")\n",
    "import pylab\n",
    "pylab.rcParams['figure.figsize'] = (15, 8)\n",
    "plt.style.use('dark_background')\n"
   ]
  },
  {
   "cell_type": "code",
   "execution_count": 24,
   "id": "e98cdeae-c332-4a02-a250-8524fd9ebc19",
   "metadata": {},
   "outputs": [
    {
     "name": "stdout",
     "output_type": "stream",
     "text": [
      "CPU times: total: 0 ns\n",
      "Wall time: 0 ns\n"
     ]
    }
   ],
   "source": [
    "%%time\n",
    "from tensorflow.keras.models import Sequential\n",
    "from tensorflow.keras.layers import Dense, InputLayer, Input, Activation\n",
    "import tensorflow.keras as tfk"
   ]
  },
  {
   "cell_type": "code",
   "execution_count": 25,
   "id": "e1e82500-60cd-44c5-8a59-540b30a8a587",
   "metadata": {},
   "outputs": [],
   "source": [
    "import sklearn.datasets\n",
    "cancer=sklearn.datasets.load_breast_cancer()"
   ]
  },
  {
   "cell_type": "code",
   "execution_count": 26,
   "id": "b11ae394-f2af-4705-8f90-2dc0a27648c7",
   "metadata": {},
   "outputs": [
    {
     "data": {
      "text/plain": [
       "dict_keys(['data', 'target', 'frame', 'target_names', 'DESCR', 'feature_names', 'filename', 'data_module'])"
      ]
     },
     "execution_count": 26,
     "metadata": {},
     "output_type": "execute_result"
    }
   ],
   "source": [
    "cancer.keys()"
   ]
  },
  {
   "cell_type": "code",
   "execution_count": 27,
   "id": "d949808c-adc7-491c-a142-2a0f3d1b3327",
   "metadata": {},
   "outputs": [
    {
     "data": {
      "text/html": [
       "<div>\n",
       "<style scoped>\n",
       "    .dataframe tbody tr th:only-of-type {\n",
       "        vertical-align: middle;\n",
       "    }\n",
       "\n",
       "    .dataframe tbody tr th {\n",
       "        vertical-align: top;\n",
       "    }\n",
       "\n",
       "    .dataframe thead th {\n",
       "        text-align: right;\n",
       "    }\n",
       "</style>\n",
       "<table border=\"1\" class=\"dataframe\">\n",
       "  <thead>\n",
       "    <tr style=\"text-align: right;\">\n",
       "      <th></th>\n",
       "      <th>mean radius</th>\n",
       "      <th>mean texture</th>\n",
       "      <th>mean perimeter</th>\n",
       "      <th>mean area</th>\n",
       "      <th>mean smoothness</th>\n",
       "      <th>mean compactness</th>\n",
       "      <th>mean concavity</th>\n",
       "      <th>mean concave points</th>\n",
       "      <th>mean symmetry</th>\n",
       "      <th>mean fractal dimension</th>\n",
       "      <th>...</th>\n",
       "      <th>worst texture</th>\n",
       "      <th>worst perimeter</th>\n",
       "      <th>worst area</th>\n",
       "      <th>worst smoothness</th>\n",
       "      <th>worst compactness</th>\n",
       "      <th>worst concavity</th>\n",
       "      <th>worst concave points</th>\n",
       "      <th>worst symmetry</th>\n",
       "      <th>worst fractal dimension</th>\n",
       "      <th>classification</th>\n",
       "    </tr>\n",
       "  </thead>\n",
       "  <tbody>\n",
       "    <tr>\n",
       "      <th>0</th>\n",
       "      <td>17.99</td>\n",
       "      <td>10.38</td>\n",
       "      <td>122.8</td>\n",
       "      <td>1001.0</td>\n",
       "      <td>0.1184</td>\n",
       "      <td>0.2776</td>\n",
       "      <td>0.3001</td>\n",
       "      <td>0.1471</td>\n",
       "      <td>0.2419</td>\n",
       "      <td>0.07871</td>\n",
       "      <td>...</td>\n",
       "      <td>17.33</td>\n",
       "      <td>184.6</td>\n",
       "      <td>2019.0</td>\n",
       "      <td>0.1622</td>\n",
       "      <td>0.6656</td>\n",
       "      <td>0.7119</td>\n",
       "      <td>0.2654</td>\n",
       "      <td>0.4601</td>\n",
       "      <td>0.1189</td>\n",
       "      <td>0</td>\n",
       "    </tr>\n",
       "  </tbody>\n",
       "</table>\n",
       "<p>1 rows × 31 columns</p>\n",
       "</div>"
      ],
      "text/plain": [
       "   mean radius  mean texture  mean perimeter  mean area  mean smoothness  \\\n",
       "0        17.99         10.38           122.8     1001.0           0.1184   \n",
       "\n",
       "   mean compactness  mean concavity  mean concave points  mean symmetry  \\\n",
       "0            0.2776          0.3001               0.1471         0.2419   \n",
       "\n",
       "   mean fractal dimension  ...  worst texture  worst perimeter  worst area  \\\n",
       "0                 0.07871  ...          17.33            184.6      2019.0   \n",
       "\n",
       "   worst smoothness  worst compactness  worst concavity  worst concave points  \\\n",
       "0            0.1622             0.6656           0.7119                0.2654   \n",
       "\n",
       "   worst symmetry  worst fractal dimension  classification  \n",
       "0          0.4601                   0.1189               0  \n",
       "\n",
       "[1 rows x 31 columns]"
      ]
     },
     "execution_count": 27,
     "metadata": {},
     "output_type": "execute_result"
    }
   ],
   "source": [
    "df = pd.DataFrame(cancer['data'], columns=cancer['feature_names'])\n",
    "y = cancer['target']\n",
    "\n",
    "df['classification'] = y\n",
    "df.head(1)"
   ]
  },
  {
   "cell_type": "code",
   "execution_count": null,
   "id": "00a64724-b5cb-497d-b656-9021aaca4b2c",
   "metadata": {},
   "outputs": [],
   "source": []
  },
  {
   "cell_type": "code",
   "execution_count": 28,
   "id": "307144fa-21a2-4e6c-95fc-0ac26af3a122",
   "metadata": {},
   "outputs": [],
   "source": [
    "# 212 - Malignant ~ 0\n",
    "# 357 - Benign ~ 1"
   ]
  },
  {
   "cell_type": "code",
   "execution_count": null,
   "id": "515b2fd2-34e7-43a1-8541-1dc2756a744f",
   "metadata": {},
   "outputs": [],
   "source": []
  },
  {
   "cell_type": "code",
   "execution_count": 29,
   "id": "952448cf-d21b-45b0-83a9-d3a63c33a4d9",
   "metadata": {},
   "outputs": [],
   "source": [
    "df['classification']= df['classification'].apply(lambda x : 1 if x==0 else 0)"
   ]
  },
  {
   "cell_type": "code",
   "execution_count": 30,
   "id": "56c18122-2c85-4694-bfe0-16434f16d561",
   "metadata": {},
   "outputs": [
    {
     "data": {
      "text/plain": [
       "<AxesSubplot:xlabel='classification', ylabel='count'>"
      ]
     },
     "execution_count": 30,
     "metadata": {},
     "output_type": "execute_result"
    },
    {
     "data": {
      "image/png": "[encoded data removed]",
      "text/plain": [
       "<Figure size 1080x576 with 1 Axes>"
      ]
     },
     "metadata": {},
     "output_type": "display_data"
    }
   ],
   "source": [
    "sns.countplot(data=df, x=df['classification'])"
   ]
  },
  {
   "cell_type": "code",
   "execution_count": 31,
   "id": "75b45d75-e7f7-4580-86cb-7ef770b2411f",
   "metadata": {},
   "outputs": [],
   "source": [
    "# from sklearn.preprocessing import LabelEncoder\n",
    "# labelencoder = LabelEncoder()"
   ]
  },
  {
   "cell_type": "code",
   "execution_count": 32,
   "id": "e0252c28-012e-44fa-922b-2039792512bb",
   "metadata": {},
   "outputs": [],
   "source": [
    "target='classification'\n",
    "y=df[target].values\n",
    "# X = df.loc[df.columns != target]\n",
    "X = df.loc[:,df.columns != target].values\n"
   ]
  },
  {
   "cell_type": "code",
   "execution_count": 33,
   "id": "672eb893-29b6-4d65-b854-f45516cac487",
   "metadata": {},
   "outputs": [],
   "source": [
    "from sklearn.model_selection import train_test_split\n",
    "X_train, X_test, y_train, y_test = train_test_split(X, y, test_size=0.25, random_state=415)"
   ]
  },
  {
   "cell_type": "code",
   "execution_count": 34,
   "id": "1e240912-c01e-4ea8-800b-53773ca33c87",
   "metadata": {},
   "outputs": [
    {
     "data": {
      "text/plain": [
       "0    269\n",
       "1    157\n",
       "dtype: int64"
      ]
     },
     "execution_count": 34,
     "metadata": {},
     "output_type": "execute_result"
    }
   ],
   "source": [
    "pd.DataFrame(y_train).value_counts()"
   ]
  },
  {
   "cell_type": "code",
   "execution_count": 35,
   "id": "a6b7e7a3-2c90-4083-b900-79b18278e779",
   "metadata": {},
   "outputs": [
    {
     "data": {
      "text/plain": [
       "0    267\n",
       "1    159\n",
       "dtype: int64"
      ]
     },
     "execution_count": 35,
     "metadata": {},
     "output_type": "execute_result"
    }
   ],
   "source": [
    "X_train, X_test, y_train, y_test = train_test_split(X, y, test_size=0.25, random_state=415,stratify=y)\n",
    "pd.DataFrame(y_train).value_counts()"
   ]
  },
  {
   "cell_type": "code",
   "execution_count": 36,
   "id": "55ddd9a1-0f87-4ffd-9a36-2acf3e008095",
   "metadata": {},
   "outputs": [
    {
     "data": {
      "text/plain": [
       "53"
      ]
     },
     "execution_count": 36,
     "metadata": {},
     "output_type": "execute_result"
    }
   ],
   "source": [
    "y_test.sum()"
   ]
  },
  {
   "cell_type": "code",
   "execution_count": 37,
   "id": "5f55ce92-10ff-443a-a2a1-43890f9fd8a4",
   "metadata": {},
   "outputs": [
    {
     "data": {
      "text/plain": [
       "(426, 143)"
      ]
     },
     "execution_count": 37,
     "metadata": {},
     "output_type": "execute_result"
    }
   ],
   "source": [
    "len(X_train), len(y_test)"
   ]
  },
  {
   "cell_type": "code",
   "execution_count": 38,
   "id": "c0ef7821-2499-46a4-abca-93c5e3d70faf",
   "metadata": {},
   "outputs": [],
   "source": [
    "from sklearn.preprocessing import MinMaxScaler\n",
    "scaler = MinMaxScaler()\n",
    "X_train = scaler.fit_transform(X_train)\n",
    "X_test = scaler.transform(X_test)"
   ]
  },
  {
   "cell_type": "code",
   "execution_count": 39,
   "id": "2edbc8f6-fb6b-4134-a293-79de28302a84",
   "metadata": {},
   "outputs": [],
   "source": [
    "model = Sequential()"
   ]
  },
  {
   "cell_type": "code",
   "execution_count": 41,
   "id": "3dda4c9d-47cc-4e27-85f9-59b22ab524af",
   "metadata": {},
   "outputs": [],
   "source": [
    "model.add(Dense(128, input_dim=30, activation='relu'))\n",
    "model.add(Dense(64, activation='relu'))\n",
    "model.add(Dense(32, activation='relu'))\n",
    "\n",
    "model.add(Dense(1, activation='sigmoid'))\n",
    "\n",
    "model.compile(loss='binary_crossentropy', optimizer='adam', metrics=['accuracy'])"
   ]
  },
  {
   "cell_type": "code",
   "execution_count": 42,
   "id": "1ac53ea3-2dc7-4b36-bdf2-c2e837451673",
   "metadata": {},
   "outputs": [
    {
     "name": "stdout",
     "output_type": "stream",
     "text": [
      "Model: \"sequential_1\"\n",
      "_________________________________________________________________\n",
      " Layer (type)                Output Shape              Param #   \n",
      "=================================================================\n",
      " dense_4 (Dense)             (None, 128)               3968      \n",
      "                                                                 \n",
      " dense_5 (Dense)             (None, 64)                8256      \n",
      "                                                                 \n",
      " dense_6 (Dense)             (None, 32)                2080      \n",
      "                                                                 \n",
      " dense_7 (Dense)             (None, 1)                 33        \n",
      "                                                                 \n",
      "=================================================================\n",
      "Total params: 14,337\n",
      "Trainable params: 14,337\n",
      "Non-trainable params: 0\n",
      "_________________________________________________________________\n",
      "None\n"
     ]
    }
   ],
   "source": [
    "print(model.summary())"
   ]
  },
  {
   "cell_type": "code",
   "execution_count": 63,
   "id": "413e36f6-09b5-41c5-9a85-2c8b9c9bdf50",
   "metadata": {},
   "outputs": [],
   "source": [
    "from tensorflow.keras.callbacks import EarlyStopping"
   ]
  },
  {
   "cell_type": "code",
   "execution_count": 64,
   "id": "bedbefc3-b9b4-400c-b7c8-273ceeefa2fa",
   "metadata": {},
   "outputs": [],
   "source": [
    "early_stop = EarlyStopping(monitor='val_loss',mode='min',verbose=1, patience=25)"
   ]
  },
  {
   "cell_type": "code",
   "execution_count": null,
   "id": "28600ad7-7eef-41bc-bfc8-f10935fd4547",
   "metadata": {},
   "outputs": [],
   "source": []
  },
  {
   "cell_type": "code",
   "execution_count": 65,
   "id": "dd425ace-1443-4cdc-ad16-865314352dac",
   "metadata": {},
   "outputs": [
    {
     "name": "stdout",
     "output_type": "stream",
     "text": [
      "Epoch 26: early stopping\n",
      "CPU times: total: 1.11 s\n",
      "Wall time: 852 ms\n"
     ]
    }
   ],
   "source": [
    "%%time\n",
    "history=model.fit(X_train,y_train, epochs=700,validation_data=(X_test,y_test),verbose=0,batch_size=2400, callbacks=[early_stop])"
   ]
  },
  {
   "cell_type": "code",
   "execution_count": 66,
   "id": "9de7eca3-8ea9-4f45-9bbe-46c69d76fa7e",
   "metadata": {},
   "outputs": [
    {
     "data": {
      "text/html": [
       "<div>\n",
       "<style scoped>\n",
       "    .dataframe tbody tr th:only-of-type {\n",
       "        vertical-align: middle;\n",
       "    }\n",
       "\n",
       "    .dataframe tbody tr th {\n",
       "        vertical-align: top;\n",
       "    }\n",
       "\n",
       "    .dataframe thead th {\n",
       "        text-align: right;\n",
       "    }\n",
       "</style>\n",
       "<table border=\"1\" class=\"dataframe\">\n",
       "  <thead>\n",
       "    <tr style=\"text-align: right;\">\n",
       "      <th></th>\n",
       "      <th>loss</th>\n",
       "      <th>accuracy</th>\n",
       "      <th>val_loss</th>\n",
       "      <th>val_accuracy</th>\n",
       "    </tr>\n",
       "  </thead>\n",
       "  <tbody>\n",
       "    <tr>\n",
       "      <th>0</th>\n",
       "      <td>0.000276</td>\n",
       "      <td>1.0</td>\n",
       "      <td>0.187553</td>\n",
       "      <td>0.993007</td>\n",
       "    </tr>\n",
       "    <tr>\n",
       "      <th>1</th>\n",
       "      <td>0.000275</td>\n",
       "      <td>1.0</td>\n",
       "      <td>0.187604</td>\n",
       "      <td>0.993007</td>\n",
       "    </tr>\n",
       "    <tr>\n",
       "      <th>2</th>\n",
       "      <td>0.000274</td>\n",
       "      <td>1.0</td>\n",
       "      <td>0.187619</td>\n",
       "      <td>0.993007</td>\n",
       "    </tr>\n",
       "    <tr>\n",
       "      <th>3</th>\n",
       "      <td>0.000273</td>\n",
       "      <td>1.0</td>\n",
       "      <td>0.187653</td>\n",
       "      <td>0.993007</td>\n",
       "    </tr>\n",
       "    <tr>\n",
       "      <th>4</th>\n",
       "      <td>0.000272</td>\n",
       "      <td>1.0</td>\n",
       "      <td>0.187707</td>\n",
       "      <td>0.993007</td>\n",
       "    </tr>\n",
       "    <tr>\n",
       "      <th>5</th>\n",
       "      <td>0.000271</td>\n",
       "      <td>1.0</td>\n",
       "      <td>0.187789</td>\n",
       "      <td>0.993007</td>\n",
       "    </tr>\n",
       "    <tr>\n",
       "      <th>6</th>\n",
       "      <td>0.000270</td>\n",
       "      <td>1.0</td>\n",
       "      <td>0.187859</td>\n",
       "      <td>0.993007</td>\n",
       "    </tr>\n",
       "    <tr>\n",
       "      <th>7</th>\n",
       "      <td>0.000269</td>\n",
       "      <td>1.0</td>\n",
       "      <td>0.187896</td>\n",
       "      <td>0.993007</td>\n",
       "    </tr>\n",
       "    <tr>\n",
       "      <th>8</th>\n",
       "      <td>0.000268</td>\n",
       "      <td>1.0</td>\n",
       "      <td>0.187907</td>\n",
       "      <td>0.993007</td>\n",
       "    </tr>\n",
       "    <tr>\n",
       "      <th>9</th>\n",
       "      <td>0.000266</td>\n",
       "      <td>1.0</td>\n",
       "      <td>0.187920</td>\n",
       "      <td>0.993007</td>\n",
       "    </tr>\n",
       "    <tr>\n",
       "      <th>10</th>\n",
       "      <td>0.000265</td>\n",
       "      <td>1.0</td>\n",
       "      <td>0.187972</td>\n",
       "      <td>0.993007</td>\n",
       "    </tr>\n",
       "    <tr>\n",
       "      <th>11</th>\n",
       "      <td>0.000264</td>\n",
       "      <td>1.0</td>\n",
       "      <td>0.188040</td>\n",
       "      <td>0.993007</td>\n",
       "    </tr>\n",
       "    <tr>\n",
       "      <th>12</th>\n",
       "      <td>0.000263</td>\n",
       "      <td>1.0</td>\n",
       "      <td>0.188107</td>\n",
       "      <td>0.993007</td>\n",
       "    </tr>\n",
       "    <tr>\n",
       "      <th>13</th>\n",
       "      <td>0.000262</td>\n",
       "      <td>1.0</td>\n",
       "      <td>0.188175</td>\n",
       "      <td>0.993007</td>\n",
       "    </tr>\n",
       "    <tr>\n",
       "      <th>14</th>\n",
       "      <td>0.000261</td>\n",
       "      <td>1.0</td>\n",
       "      <td>0.188233</td>\n",
       "      <td>0.993007</td>\n",
       "    </tr>\n",
       "    <tr>\n",
       "      <th>15</th>\n",
       "      <td>0.000260</td>\n",
       "      <td>1.0</td>\n",
       "      <td>0.188263</td>\n",
       "      <td>0.993007</td>\n",
       "    </tr>\n",
       "    <tr>\n",
       "      <th>16</th>\n",
       "      <td>0.000259</td>\n",
       "      <td>1.0</td>\n",
       "      <td>0.188273</td>\n",
       "      <td>0.993007</td>\n",
       "    </tr>\n",
       "    <tr>\n",
       "      <th>17</th>\n",
       "      <td>0.000258</td>\n",
       "      <td>1.0</td>\n",
       "      <td>0.188332</td>\n",
       "      <td>0.993007</td>\n",
       "    </tr>\n",
       "    <tr>\n",
       "      <th>18</th>\n",
       "      <td>0.000257</td>\n",
       "      <td>1.0</td>\n",
       "      <td>0.188409</td>\n",
       "      <td>0.993007</td>\n",
       "    </tr>\n",
       "    <tr>\n",
       "      <th>19</th>\n",
       "      <td>0.000256</td>\n",
       "      <td>1.0</td>\n",
       "      <td>0.188457</td>\n",
       "      <td>0.993007</td>\n",
       "    </tr>\n",
       "    <tr>\n",
       "      <th>20</th>\n",
       "      <td>0.000255</td>\n",
       "      <td>1.0</td>\n",
       "      <td>0.188495</td>\n",
       "      <td>0.993007</td>\n",
       "    </tr>\n",
       "    <tr>\n",
       "      <th>21</th>\n",
       "      <td>0.000254</td>\n",
       "      <td>1.0</td>\n",
       "      <td>0.188530</td>\n",
       "      <td>0.993007</td>\n",
       "    </tr>\n",
       "    <tr>\n",
       "      <th>22</th>\n",
       "      <td>0.000253</td>\n",
       "      <td>1.0</td>\n",
       "      <td>0.188563</td>\n",
       "      <td>0.993007</td>\n",
       "    </tr>\n",
       "    <tr>\n",
       "      <th>23</th>\n",
       "      <td>0.000252</td>\n",
       "      <td>1.0</td>\n",
       "      <td>0.188631</td>\n",
       "      <td>0.993007</td>\n",
       "    </tr>\n",
       "    <tr>\n",
       "      <th>24</th>\n",
       "      <td>0.000251</td>\n",
       "      <td>1.0</td>\n",
       "      <td>0.188720</td>\n",
       "      <td>0.993007</td>\n",
       "    </tr>\n",
       "    <tr>\n",
       "      <th>25</th>\n",
       "      <td>0.000250</td>\n",
       "      <td>1.0</td>\n",
       "      <td>0.188783</td>\n",
       "      <td>0.993007</td>\n",
       "    </tr>\n",
       "  </tbody>\n",
       "</table>\n",
       "</div>"
      ],
      "text/plain": [
       "        loss  accuracy  val_loss  val_accuracy\n",
       "0   0.000276       1.0  0.187553      0.993007\n",
       "1   0.000275       1.0  0.187604      0.993007\n",
       "2   0.000274       1.0  0.187619      0.993007\n",
       "3   0.000273       1.0  0.187653      0.993007\n",
       "4   0.000272       1.0  0.187707      0.993007\n",
       "5   0.000271       1.0  0.187789      0.993007\n",
       "6   0.000270       1.0  0.187859      0.993007\n",
       "7   0.000269       1.0  0.187896      0.993007\n",
       "8   0.000268       1.0  0.187907      0.993007\n",
       "9   0.000266       1.0  0.187920      0.993007\n",
       "10  0.000265       1.0  0.187972      0.993007\n",
       "11  0.000264       1.0  0.188040      0.993007\n",
       "12  0.000263       1.0  0.188107      0.993007\n",
       "13  0.000262       1.0  0.188175      0.993007\n",
       "14  0.000261       1.0  0.188233      0.993007\n",
       "15  0.000260       1.0  0.188263      0.993007\n",
       "16  0.000259       1.0  0.188273      0.993007\n",
       "17  0.000258       1.0  0.188332      0.993007\n",
       "18  0.000257       1.0  0.188409      0.993007\n",
       "19  0.000256       1.0  0.188457      0.993007\n",
       "20  0.000255       1.0  0.188495      0.993007\n",
       "21  0.000254       1.0  0.188530      0.993007\n",
       "22  0.000253       1.0  0.188563      0.993007\n",
       "23  0.000252       1.0  0.188631      0.993007\n",
       "24  0.000251       1.0  0.188720      0.993007\n",
       "25  0.000250       1.0  0.188783      0.993007"
      ]
     },
     "execution_count": 66,
     "metadata": {},
     "output_type": "execute_result"
    }
   ],
   "source": [
    "pd.DataFrame(history.history)"
   ]
  },
  {
   "cell_type": "code",
   "execution_count": 67,
   "id": "d15e466b-5645-4f9e-9470-1e322b2b3a8c",
   "metadata": {},
   "outputs": [],
   "source": [
    "hist = model.history.history"
   ]
  },
  {
   "cell_type": "code",
   "execution_count": 69,
   "id": "5963e44a-ee33-4993-a64b-3de06c811c35",
   "metadata": {},
   "outputs": [
    {
     "name": "stdout",
     "output_type": "stream",
     "text": [
      "5/5 [==============================] - 0s 6ms/step - loss: 0.1888 - accuracy: 0.9930\n"
     ]
    },
    {
     "data": {
      "text/plain": [
       "[0.18878278136253357, 0.9930070042610168]"
      ]
     },
     "execution_count": 69,
     "metadata": {},
     "output_type": "execute_result"
    }
   ],
   "source": [
    "model.evaluate(X_test,y_test)"
   ]
  },
  {
   "cell_type": "code",
   "execution_count": 82,
   "id": "3f6d773f-b05b-4152-a76a-f41e84e3ccae",
   "metadata": {},
   "outputs": [
    {
     "data": {
      "text/plain": [
       "<AxesSubplot:>"
      ]
     },
     "execution_count": 82,
     "metadata": {},
     "output_type": "execute_result"
    },
    {
     "data": {
      "image/png": "[encoded data removed]",
      "text/plain": [
       "<Figure size 1080x576 with 1 Axes>"
      ]
     },
     "metadata": {},
     "output_type": "display_data"
    }
   ],
   "source": [
    "pd.DataFrame(hist).plot()"
   ]
  },
  {
   "cell_type": "code",
   "execution_count": 83,
   "id": "b04477be-4920-45ff-8a82-8613786e54f3",
   "metadata": {},
   "outputs": [
    {
     "data": {
      "text/plain": [
       "<AxesSubplot:>"
      ]
     },
     "execution_count": 83,
     "metadata": {},
     "output_type": "execute_result"
    },
    {
     "data": {
      "image/png": "[encoded data removed]",
      "text/plain": [
       "<Figure size 1080x576 with 1 Axes>"
      ]
     },
     "metadata": {},
     "output_type": "display_data"
    }
   ],
   "source": [
    "pd.DataFrame(hist)[['val_loss','loss']].plot()"
   ]
  },
  {
   "cell_type": "code",
   "execution_count": 72,
   "id": "aa1065b1-6ec6-4f67-a6f3-f3373f9332c1",
   "metadata": {},
   "outputs": [
    {
     "data": {
      "text/plain": [
       "<AxesSubplot:>"
      ]
     },
     "execution_count": 72,
     "metadata": {},
     "output_type": "execute_result"
    },
    {
     "data": {
      "image/png": "[encoded data removed]",
      "text/plain": [
       "<Figure size 1080x576 with 1 Axes>"
      ]
     },
     "metadata": {},
     "output_type": "display_data"
    }
   ],
   "source": [
    "pd.DataFrame(hist)[['accuracy','val_accuracy']].plot()"
   ]
  },
  {
   "cell_type": "code",
   "execution_count": 73,
   "id": "4152ad34-3d0b-407b-aaa0-29dde66860c7",
   "metadata": {},
   "outputs": [],
   "source": [
    "pred = model.predict(X_test)"
   ]
  },
  {
   "cell_type": "code",
   "execution_count": 74,
   "id": "a10560c8-8c46-479c-b92b-546ce23cbd3e",
   "metadata": {},
   "outputs": [],
   "source": [
    "final = pd.DataFrame(pred, columns=['logit'])"
   ]
  },
  {
   "cell_type": "code",
   "execution_count": 75,
   "id": "87e45654-124b-424c-9933-ba0e9776ea4e",
   "metadata": {},
   "outputs": [],
   "source": [
    "final['binary']=final['logit'].apply(lambda x:1 if x>=0.50 else 0)"
   ]
  },
  {
   "cell_type": "code",
   "execution_count": 76,
   "id": "dff781a3-d1a0-4d3d-ad08-132eff7faa8b",
   "metadata": {},
   "outputs": [],
   "source": [
    "from sklearn.metrics import classification_report, confusion_matrix"
   ]
  },
  {
   "cell_type": "code",
   "execution_count": null,
   "id": "7099b6f5-f54d-4659-afab-669e544a360b",
   "metadata": {},
   "outputs": [],
   "source": []
  },
  {
   "cell_type": "code",
   "execution_count": 80,
   "id": "1fba6eee-2235-4bf2-8b44-20d4064aaa39",
   "metadata": {},
   "outputs": [
    {
     "name": "stdout",
     "output_type": "stream",
     "text": [
      "              precision    recall  f1-score   support\n",
      "\n",
      "           0       0.99      1.00      0.99        90\n",
      "           1       1.00      0.98      0.99        53\n",
      "\n",
      "    accuracy                           0.99       143\n",
      "   macro avg       0.99      0.99      0.99       143\n",
      "weighted avg       0.99      0.99      0.99       143\n",
      "\n"
     ]
    }
   ],
   "source": [
    "print(classification_report(y_test,final['binary'].values))"
   ]
  },
  {
   "cell_type": "code",
   "execution_count": 81,
   "id": "6fab3f55-1151-4dc5-8744-5c2f910d8fd4",
   "metadata": {},
   "outputs": [
    {
     "data": {
      "text/plain": [
       "<AxesSubplot:>"
      ]
     },
     "execution_count": 81,
     "metadata": {},
     "output_type": "execute_result"
    },
    {
     "data": {
      "image/png": "[encoded data removed]",
      "text/plain": [
       "<Figure size 1080x576 with 2 Axes>"
      ]
     },
     "metadata": {},
     "output_type": "display_data"
    }
   ],
   "source": [
    "cm=confusion_matrix(y_test,final.binary)\n",
    "sns.heatmap(cm,annot=True,cmap='Accent')"
   ]
  },
  {
   "cell_type": "code",
   "execution_count": null,
   "id": "85d273c5-3942-4498-9db6-145b8cea1925",
   "metadata": {},
   "outputs": [],
   "source": []
  },
  {
   "cell_type": "code",
   "execution_count": null,
   "id": "8659f4e0-2888-4276-94aa-82b1f597c708",
   "metadata": {},
   "outputs": [],
   "source": []
  },
  {
   "cell_type": "code",
   "execution_count": 79,
   "id": "d97d1171-1a04-4c77-b1b1-d079db8e7ce9",
   "metadata": {},
   "outputs": [
    {
     "name": "stdout",
     "output_type": "stream",
     "text": [
      "0:03:11.330520\n"
     ]
    }
   ],
   "source": [
    "print(datetime.now() - a)"
   ]
  },
  {
   "cell_type": "code",
   "execution_count": null,
   "id": "544e6737-0ac4-428c-8f6d-a450aaf14333",
   "metadata": {},
   "outputs": [],
   "source": []
  },
  {
   "cell_type": "code",
   "execution_count": null,
   "id": "d94750fc-4432-4132-bcaa-9cbf4783e508",
   "metadata": {},
   "outputs": [],
   "source": []
  },
  {
   "cell_type": "code",
   "execution_count": null,
   "id": "de0c500d-3c28-430d-8957-b366ac7b98f9",
   "metadata": {},
   "outputs": [],
   "source": []
  }
 ],
 "metadata": {
  "kernelspec": {
   "display_name": "tf500",
   "language": "python",
   "name": "tf500"
  },
  "language_info": {
   "codemirror_mode": {
    "name": "ipython",
    "version": 3
   },
   "file_extension": ".py",
   "mimetype": "text/x-python",
   "name": "python",
   "nbconvert_exporter": "python",
   "pygments_lexer": "ipython3",
   "version": "3.10.0"
  }
 },
 "nbformat": 4,
 "nbformat_minor": 5
}
