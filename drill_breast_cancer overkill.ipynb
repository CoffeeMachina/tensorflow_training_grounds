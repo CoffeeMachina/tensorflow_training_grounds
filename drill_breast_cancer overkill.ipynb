{
 "cells": [
  {
   "cell_type": "code",
   "execution_count": 132,
   "id": "779630c9-0fb1-4f8c-bdbd-317e70efd019",
   "metadata": {},
   "outputs": [
    {
     "name": "stdout",
     "output_type": "stream",
     "text": [
      "CPU times: total: 0 ns\n",
      "Wall time: 1.99 ms\n"
     ]
    }
   ],
   "source": [
    "%%time\n",
    "from datetime import datetime\n",
    "a = datetime.now()\n",
    "\n",
    "import seaborn as sns\n",
    "import matplotlib.pyplot as plt\n",
    "import pandas as pd\n",
    "import numpy as np\n",
    "\n",
    "sns.set_palette(\"afmhot\")\n",
    "# sns.set_palette(\"twilight\")\n",
    "# sns.set_style(\"darkgrid\",{\"axes.facebolor\":\"0.90\"})\n",
    "sns.set_context(\"notebook\", font_scale=1.5, rc={\"lines.linewidth\":1.5})\n",
    "sns.set_style(\"whitegrid\")\n",
    "import pylab\n",
    "pylab.rcParams['figure.figsize'] = (15, 8)\n",
    "plt.style.use('dark_background')\n"
   ]
  },
  {
   "cell_type": "code",
   "execution_count": 133,
   "id": "e98cdeae-c332-4a02-a250-8524fd9ebc19",
   "metadata": {},
   "outputs": [
    {
     "name": "stdout",
     "output_type": "stream",
     "text": [
      "CPU times: total: 0 ns\n",
      "Wall time: 0 ns\n"
     ]
    }
   ],
   "source": [
    "%%time\n",
    "from tensorflow.keras.models import Sequential\n",
    "from tensorflow.keras.layers import Dense, InputLayer, Input, Activation\n",
    "import tensorflow.keras as tfk"
   ]
  },
  {
   "cell_type": "code",
   "execution_count": 134,
   "id": "e1e82500-60cd-44c5-8a59-540b30a8a587",
   "metadata": {},
   "outputs": [],
   "source": [
    "import sklearn.datasets\n",
    "cancer=sklearn.datasets.load_breast_cancer()"
   ]
  },
  {
   "cell_type": "code",
   "execution_count": 135,
   "id": "b11ae394-f2af-4705-8f90-2dc0a27648c7",
   "metadata": {},
   "outputs": [
    {
     "data": {
      "text/plain": [
       "dict_keys(['data', 'target', 'frame', 'target_names', 'DESCR', 'feature_names', 'filename', 'data_module'])"
      ]
     },
     "execution_count": 135,
     "metadata": {},
     "output_type": "execute_result"
    }
   ],
   "source": [
    "cancer.keys()"
   ]
  },
  {
   "cell_type": "code",
   "execution_count": 136,
   "id": "d949808c-adc7-491c-a142-2a0f3d1b3327",
   "metadata": {},
   "outputs": [
    {
     "data": {
      "text/html": [
       "<div>\n",
       "<style scoped>\n",
       "    .dataframe tbody tr th:only-of-type {\n",
       "        vertical-align: middle;\n",
       "    }\n",
       "\n",
       "    .dataframe tbody tr th {\n",
       "        vertical-align: top;\n",
       "    }\n",
       "\n",
       "    .dataframe thead th {\n",
       "        text-align: right;\n",
       "    }\n",
       "</style>\n",
       "<table border=\"1\" class=\"dataframe\">\n",
       "  <thead>\n",
       "    <tr style=\"text-align: right;\">\n",
       "      <th></th>\n",
       "      <th>mean radius</th>\n",
       "      <th>mean texture</th>\n",
       "      <th>mean perimeter</th>\n",
       "      <th>mean area</th>\n",
       "      <th>mean smoothness</th>\n",
       "      <th>mean compactness</th>\n",
       "      <th>mean concavity</th>\n",
       "      <th>mean concave points</th>\n",
       "      <th>mean symmetry</th>\n",
       "      <th>mean fractal dimension</th>\n",
       "      <th>...</th>\n",
       "      <th>worst texture</th>\n",
       "      <th>worst perimeter</th>\n",
       "      <th>worst area</th>\n",
       "      <th>worst smoothness</th>\n",
       "      <th>worst compactness</th>\n",
       "      <th>worst concavity</th>\n",
       "      <th>worst concave points</th>\n",
       "      <th>worst symmetry</th>\n",
       "      <th>worst fractal dimension</th>\n",
       "      <th>classification</th>\n",
       "    </tr>\n",
       "  </thead>\n",
       "  <tbody>\n",
       "    <tr>\n",
       "      <th>0</th>\n",
       "      <td>17.99</td>\n",
       "      <td>10.38</td>\n",
       "      <td>122.8</td>\n",
       "      <td>1001.0</td>\n",
       "      <td>0.1184</td>\n",
       "      <td>0.2776</td>\n",
       "      <td>0.3001</td>\n",
       "      <td>0.1471</td>\n",
       "      <td>0.2419</td>\n",
       "      <td>0.07871</td>\n",
       "      <td>...</td>\n",
       "      <td>17.33</td>\n",
       "      <td>184.6</td>\n",
       "      <td>2019.0</td>\n",
       "      <td>0.1622</td>\n",
       "      <td>0.6656</td>\n",
       "      <td>0.7119</td>\n",
       "      <td>0.2654</td>\n",
       "      <td>0.4601</td>\n",
       "      <td>0.1189</td>\n",
       "      <td>0</td>\n",
       "    </tr>\n",
       "  </tbody>\n",
       "</table>\n",
       "<p>1 rows × 31 columns</p>\n",
       "</div>"
      ],
      "text/plain": [
       "   mean radius  mean texture  mean perimeter  mean area  mean smoothness  \\\n",
       "0        17.99         10.38           122.8     1001.0           0.1184   \n",
       "\n",
       "   mean compactness  mean concavity  mean concave points  mean symmetry  \\\n",
       "0            0.2776          0.3001               0.1471         0.2419   \n",
       "\n",
       "   mean fractal dimension  ...  worst texture  worst perimeter  worst area  \\\n",
       "0                 0.07871  ...          17.33            184.6      2019.0   \n",
       "\n",
       "   worst smoothness  worst compactness  worst concavity  worst concave points  \\\n",
       "0            0.1622             0.6656           0.7119                0.2654   \n",
       "\n",
       "   worst symmetry  worst fractal dimension  classification  \n",
       "0          0.4601                   0.1189               0  \n",
       "\n",
       "[1 rows x 31 columns]"
      ]
     },
     "execution_count": 136,
     "metadata": {},
     "output_type": "execute_result"
    }
   ],
   "source": [
    "df = pd.DataFrame(cancer['data'], columns=cancer['feature_names'])\n",
    "y = cancer['target']\n",
    "\n",
    "df['classification'] = y\n",
    "df.head(1)"
   ]
  },
  {
   "cell_type": "code",
   "execution_count": null,
   "id": "00a64724-b5cb-497d-b656-9021aaca4b2c",
   "metadata": {},
   "outputs": [],
   "source": []
  },
  {
   "cell_type": "code",
   "execution_count": 137,
   "id": "307144fa-21a2-4e6c-95fc-0ac26af3a122",
   "metadata": {},
   "outputs": [],
   "source": [
    "# 212 - Malignant ~ 0\n",
    "# 357 - Benign ~ 1"
   ]
  },
  {
   "cell_type": "code",
   "execution_count": null,
   "id": "515b2fd2-34e7-43a1-8541-1dc2756a744f",
   "metadata": {},
   "outputs": [],
   "source": []
  },
  {
   "cell_type": "code",
   "execution_count": 138,
   "id": "952448cf-d21b-45b0-83a9-d3a63c33a4d9",
   "metadata": {},
   "outputs": [],
   "source": [
    "df['classification']= df['classification'].apply(lambda x : 1 if x==0 else 0)"
   ]
  },
  {
   "cell_type": "code",
   "execution_count": 139,
   "id": "56c18122-2c85-4694-bfe0-16434f16d561",
   "metadata": {},
   "outputs": [
    {
     "data": {
      "text/plain": [
       "<AxesSubplot:xlabel='classification', ylabel='count'>"
      ]
     },
     "execution_count": 139,
     "metadata": {},
     "output_type": "execute_result"
    },
    {
     "data": {
      "image/png": "[encoded data removed]",
      "text/plain": [
       "<Figure size 1080x576 with 1 Axes>"
      ]
     },
     "metadata": {},
     "output_type": "display_data"
    }
   ],
   "source": [
    "sns.countplot(data=df, x=df['classification'])"
   ]
  },
  {
   "cell_type": "code",
   "execution_count": 140,
   "id": "75b45d75-e7f7-4580-86cb-7ef770b2411f",
   "metadata": {},
   "outputs": [],
   "source": [
    "# from sklearn.preprocessing import LabelEncoder\n",
    "# labelencoder = LabelEncoder()"
   ]
  },
  {
   "cell_type": "code",
   "execution_count": 141,
   "id": "e0252c28-012e-44fa-922b-2039792512bb",
   "metadata": {},
   "outputs": [],
   "source": [
    "target='classification'\n",
    "y=df[target].values\n",
    "# X = df.loc[df.columns != target]\n",
    "X = df.loc[:,df.columns != target].values\n"
   ]
  },
  {
   "cell_type": "code",
   "execution_count": 180,
   "id": "672eb893-29b6-4d65-b854-f45516cac487",
   "metadata": {},
   "outputs": [],
   "source": [
    "from sklearn.model_selection import train_test_split\n",
    "X_train, X_test, y_train, y_test = train_test_split(X, y, test_size=0.25, random_state=415)"
   ]
  },
  {
   "cell_type": "code",
   "execution_count": 181,
   "id": "1e240912-c01e-4ea8-800b-53773ca33c87",
   "metadata": {},
   "outputs": [
    {
     "data": {
      "text/plain": [
       "0    269\n",
       "1    157\n",
       "dtype: int64"
      ]
     },
     "execution_count": 181,
     "metadata": {},
     "output_type": "execute_result"
    }
   ],
   "source": [
    "pd.DataFrame(y_train).value_counts()"
   ]
  },
  {
   "cell_type": "code",
   "execution_count": 184,
   "id": "a6b7e7a3-2c90-4083-b900-79b18278e779",
   "metadata": {},
   "outputs": [
    {
     "data": {
      "text/plain": [
       "0    267\n",
       "1    159\n",
       "dtype: int64"
      ]
     },
     "execution_count": 184,
     "metadata": {},
     "output_type": "execute_result"
    }
   ],
   "source": [
    "X_train, X_test, y_train, y_test = train_test_split(X, y, test_size=0.25, random_state=415,stratify=y)\n",
    "pd.DataFrame(y_train).value_counts()"
   ]
  },
  {
   "cell_type": "code",
   "execution_count": 169,
   "id": "55ddd9a1-0f87-4ffd-9a36-2acf3e008095",
   "metadata": {},
   "outputs": [
    {
     "data": {
      "text/plain": [
       "53"
      ]
     },
     "execution_count": 169,
     "metadata": {},
     "output_type": "execute_result"
    }
   ],
   "source": [
    "y_test.sum()"
   ]
  },
  {
   "cell_type": "code",
   "execution_count": 143,
   "id": "5f55ce92-10ff-443a-a2a1-43890f9fd8a4",
   "metadata": {},
   "outputs": [
    {
     "data": {
      "text/plain": [
       "(426, 143)"
      ]
     },
     "execution_count": 143,
     "metadata": {},
     "output_type": "execute_result"
    }
   ],
   "source": [
    "len(X_train), len(y_test)"
   ]
  },
  {
   "cell_type": "code",
   "execution_count": 144,
   "id": "c0ef7821-2499-46a4-abca-93c5e3d70faf",
   "metadata": {},
   "outputs": [],
   "source": [
    "from sklearn.preprocessing import MinMaxScaler\n",
    "scaler = MinMaxScaler()\n",
    "X_train = scaler.fit_transform(X_train)\n",
    "X_test = scaler.transform(X_test)"
   ]
  },
  {
   "cell_type": "code",
   "execution_count": 145,
   "id": "2edbc8f6-fb6b-4134-a293-79de28302a84",
   "metadata": {},
   "outputs": [],
   "source": [
    "model = Sequential()"
   ]
  },
  {
   "cell_type": "code",
   "execution_count": 146,
   "id": "fa0f9770-ebf2-4012-98a2-4e77b84dbe0c",
   "metadata": {},
   "outputs": [],
   "source": [
    "model.add(Dense(128, input_dim=30, activation='relu'))\n",
    "model.add(Dense(64, activation='relu'))\n",
    "model.add(Dense(32, activation='relu'))\n",
    "\n",
    "model.add(Dense(1, activation='sigmoid'))"
   ]
  },
  {
   "cell_type": "code",
   "execution_count": 147,
   "id": "c7ec6a6d-99cb-4527-97d2-ec04dc83df62",
   "metadata": {},
   "outputs": [],
   "source": [
    "model.compile(loss='binary_crossentropy', optimizer='adam', metrics=['accuracy'])"
   ]
  },
  {
   "cell_type": "code",
   "execution_count": 148,
   "id": "1ac53ea3-2dc7-4b36-bdf2-c2e837451673",
   "metadata": {},
   "outputs": [
    {
     "name": "stdout",
     "output_type": "stream",
     "text": [
      "Model: \"sequential_4\"\n",
      "_________________________________________________________________\n",
      " Layer (type)                Output Shape              Param #   \n",
      "=================================================================\n",
      " dense_16 (Dense)            (None, 128)               3968      \n",
      "                                                                 \n",
      " dense_17 (Dense)            (None, 64)                8256      \n",
      "                                                                 \n",
      " dense_18 (Dense)            (None, 32)                2080      \n",
      "                                                                 \n",
      " dense_19 (Dense)            (None, 1)                 33        \n",
      "                                                                 \n",
      "=================================================================\n",
      "Total params: 14,337\n",
      "Trainable params: 14,337\n",
      "Non-trainable params: 0\n",
      "_________________________________________________________________\n",
      "None\n"
     ]
    }
   ],
   "source": [
    "print(model.summary())"
   ]
  },
  {
   "cell_type": "code",
   "execution_count": 149,
   "id": "dd425ace-1443-4cdc-ad16-865314352dac",
   "metadata": {},
   "outputs": [
    {
     "name": "stdout",
     "output_type": "stream",
     "text": [
      "CPU times: total: 25.8 s\n",
      "Wall time: 22.1 s\n"
     ]
    }
   ],
   "source": [
    "%%time\n",
    "history=model.fit(X_train,y_train, epochs=700,validation_data=(X_test,y_test),verbose=0,batch_size=2400)"
   ]
  },
  {
   "cell_type": "code",
   "execution_count": 150,
   "id": "9de7eca3-8ea9-4f45-9bbe-46c69d76fa7e",
   "metadata": {},
   "outputs": [
    {
     "data": {
      "text/html": [
       "<div>\n",
       "<style scoped>\n",
       "    .dataframe tbody tr th:only-of-type {\n",
       "        vertical-align: middle;\n",
       "    }\n",
       "\n",
       "    .dataframe tbody tr th {\n",
       "        vertical-align: top;\n",
       "    }\n",
       "\n",
       "    .dataframe thead th {\n",
       "        text-align: right;\n",
       "    }\n",
       "</style>\n",
       "<table border=\"1\" class=\"dataframe\">\n",
       "  <thead>\n",
       "    <tr style=\"text-align: right;\">\n",
       "      <th></th>\n",
       "      <th>loss</th>\n",
       "      <th>accuracy</th>\n",
       "      <th>val_loss</th>\n",
       "      <th>val_accuracy</th>\n",
       "    </tr>\n",
       "  </thead>\n",
       "  <tbody>\n",
       "    <tr>\n",
       "      <th>0</th>\n",
       "      <td>0.689743</td>\n",
       "      <td>0.624413</td>\n",
       "      <td>0.683376</td>\n",
       "      <td>0.615385</td>\n",
       "    </tr>\n",
       "    <tr>\n",
       "      <th>1</th>\n",
       "      <td>0.680948</td>\n",
       "      <td>0.631455</td>\n",
       "      <td>0.675013</td>\n",
       "      <td>0.713287</td>\n",
       "    </tr>\n",
       "    <tr>\n",
       "      <th>2</th>\n",
       "      <td>0.672940</td>\n",
       "      <td>0.725352</td>\n",
       "      <td>0.667704</td>\n",
       "      <td>0.825175</td>\n",
       "    </tr>\n",
       "    <tr>\n",
       "      <th>3</th>\n",
       "      <td>0.665839</td>\n",
       "      <td>0.807512</td>\n",
       "      <td>0.660370</td>\n",
       "      <td>0.797203</td>\n",
       "    </tr>\n",
       "    <tr>\n",
       "      <th>4</th>\n",
       "      <td>0.658644</td>\n",
       "      <td>0.856808</td>\n",
       "      <td>0.652988</td>\n",
       "      <td>0.797203</td>\n",
       "    </tr>\n",
       "    <tr>\n",
       "      <th>...</th>\n",
       "      <td>...</td>\n",
       "      <td>...</td>\n",
       "      <td>...</td>\n",
       "      <td>...</td>\n",
       "    </tr>\n",
       "    <tr>\n",
       "      <th>695</th>\n",
       "      <td>0.000248</td>\n",
       "      <td>1.000000</td>\n",
       "      <td>0.584687</td>\n",
       "      <td>0.930070</td>\n",
       "    </tr>\n",
       "    <tr>\n",
       "      <th>696</th>\n",
       "      <td>0.000247</td>\n",
       "      <td>1.000000</td>\n",
       "      <td>0.585135</td>\n",
       "      <td>0.930070</td>\n",
       "    </tr>\n",
       "    <tr>\n",
       "      <th>697</th>\n",
       "      <td>0.000246</td>\n",
       "      <td>1.000000</td>\n",
       "      <td>0.585554</td>\n",
       "      <td>0.930070</td>\n",
       "    </tr>\n",
       "    <tr>\n",
       "      <th>698</th>\n",
       "      <td>0.000245</td>\n",
       "      <td>1.000000</td>\n",
       "      <td>0.585881</td>\n",
       "      <td>0.930070</td>\n",
       "    </tr>\n",
       "    <tr>\n",
       "      <th>699</th>\n",
       "      <td>0.000244</td>\n",
       "      <td>1.000000</td>\n",
       "      <td>0.586210</td>\n",
       "      <td>0.930070</td>\n",
       "    </tr>\n",
       "  </tbody>\n",
       "</table>\n",
       "<p>700 rows × 4 columns</p>\n",
       "</div>"
      ],
      "text/plain": [
       "         loss  accuracy  val_loss  val_accuracy\n",
       "0    0.689743  0.624413  0.683376      0.615385\n",
       "1    0.680948  0.631455  0.675013      0.713287\n",
       "2    0.672940  0.725352  0.667704      0.825175\n",
       "3    0.665839  0.807512  0.660370      0.797203\n",
       "4    0.658644  0.856808  0.652988      0.797203\n",
       "..        ...       ...       ...           ...\n",
       "695  0.000248  1.000000  0.584687      0.930070\n",
       "696  0.000247  1.000000  0.585135      0.930070\n",
       "697  0.000246  1.000000  0.585554      0.930070\n",
       "698  0.000245  1.000000  0.585881      0.930070\n",
       "699  0.000244  1.000000  0.586210      0.930070\n",
       "\n",
       "[700 rows x 4 columns]"
      ]
     },
     "execution_count": 150,
     "metadata": {},
     "output_type": "execute_result"
    }
   ],
   "source": [
    "pd.DataFrame(history.history)"
   ]
  },
  {
   "cell_type": "code",
   "execution_count": 151,
   "id": "d15e466b-5645-4f9e-9470-1e322b2b3a8c",
   "metadata": {},
   "outputs": [],
   "source": [
    "hist = model.history.history"
   ]
  },
  {
   "cell_type": "code",
   "execution_count": 152,
   "id": "2b8c2393-386b-4ff4-a70d-491a14336cf9",
   "metadata": {},
   "outputs": [
    {
     "data": {
      "text/html": [
       "<div>\n",
       "<style scoped>\n",
       "    .dataframe tbody tr th:only-of-type {\n",
       "        vertical-align: middle;\n",
       "    }\n",
       "\n",
       "    .dataframe tbody tr th {\n",
       "        vertical-align: top;\n",
       "    }\n",
       "\n",
       "    .dataframe thead th {\n",
       "        text-align: right;\n",
       "    }\n",
       "</style>\n",
       "<table border=\"1\" class=\"dataframe\">\n",
       "  <thead>\n",
       "    <tr style=\"text-align: right;\">\n",
       "      <th></th>\n",
       "      <th>loss</th>\n",
       "      <th>accuracy</th>\n",
       "      <th>val_loss</th>\n",
       "      <th>val_accuracy</th>\n",
       "    </tr>\n",
       "  </thead>\n",
       "  <tbody>\n",
       "    <tr>\n",
       "      <th>0</th>\n",
       "      <td>0.689743</td>\n",
       "      <td>0.624413</td>\n",
       "      <td>0.683376</td>\n",
       "      <td>0.615385</td>\n",
       "    </tr>\n",
       "    <tr>\n",
       "      <th>1</th>\n",
       "      <td>0.680948</td>\n",
       "      <td>0.631455</td>\n",
       "      <td>0.675013</td>\n",
       "      <td>0.713287</td>\n",
       "    </tr>\n",
       "    <tr>\n",
       "      <th>2</th>\n",
       "      <td>0.672940</td>\n",
       "      <td>0.725352</td>\n",
       "      <td>0.667704</td>\n",
       "      <td>0.825175</td>\n",
       "    </tr>\n",
       "    <tr>\n",
       "      <th>3</th>\n",
       "      <td>0.665839</td>\n",
       "      <td>0.807512</td>\n",
       "      <td>0.660370</td>\n",
       "      <td>0.797203</td>\n",
       "    </tr>\n",
       "    <tr>\n",
       "      <th>4</th>\n",
       "      <td>0.658644</td>\n",
       "      <td>0.856808</td>\n",
       "      <td>0.652988</td>\n",
       "      <td>0.797203</td>\n",
       "    </tr>\n",
       "    <tr>\n",
       "      <th>...</th>\n",
       "      <td>...</td>\n",
       "      <td>...</td>\n",
       "      <td>...</td>\n",
       "      <td>...</td>\n",
       "    </tr>\n",
       "    <tr>\n",
       "      <th>695</th>\n",
       "      <td>0.000248</td>\n",
       "      <td>1.000000</td>\n",
       "      <td>0.584687</td>\n",
       "      <td>0.930070</td>\n",
       "    </tr>\n",
       "    <tr>\n",
       "      <th>696</th>\n",
       "      <td>0.000247</td>\n",
       "      <td>1.000000</td>\n",
       "      <td>0.585135</td>\n",
       "      <td>0.930070</td>\n",
       "    </tr>\n",
       "    <tr>\n",
       "      <th>697</th>\n",
       "      <td>0.000246</td>\n",
       "      <td>1.000000</td>\n",
       "      <td>0.585554</td>\n",
       "      <td>0.930070</td>\n",
       "    </tr>\n",
       "    <tr>\n",
       "      <th>698</th>\n",
       "      <td>0.000245</td>\n",
       "      <td>1.000000</td>\n",
       "      <td>0.585881</td>\n",
       "      <td>0.930070</td>\n",
       "    </tr>\n",
       "    <tr>\n",
       "      <th>699</th>\n",
       "      <td>0.000244</td>\n",
       "      <td>1.000000</td>\n",
       "      <td>0.586210</td>\n",
       "      <td>0.930070</td>\n",
       "    </tr>\n",
       "  </tbody>\n",
       "</table>\n",
       "<p>700 rows × 4 columns</p>\n",
       "</div>"
      ],
      "text/plain": [
       "         loss  accuracy  val_loss  val_accuracy\n",
       "0    0.689743  0.624413  0.683376      0.615385\n",
       "1    0.680948  0.631455  0.675013      0.713287\n",
       "2    0.672940  0.725352  0.667704      0.825175\n",
       "3    0.665839  0.807512  0.660370      0.797203\n",
       "4    0.658644  0.856808  0.652988      0.797203\n",
       "..        ...       ...       ...           ...\n",
       "695  0.000248  1.000000  0.584687      0.930070\n",
       "696  0.000247  1.000000  0.585135      0.930070\n",
       "697  0.000246  1.000000  0.585554      0.930070\n",
       "698  0.000245  1.000000  0.585881      0.930070\n",
       "699  0.000244  1.000000  0.586210      0.930070\n",
       "\n",
       "[700 rows x 4 columns]"
      ]
     },
     "execution_count": 152,
     "metadata": {},
     "output_type": "execute_result"
    }
   ],
   "source": [
    "pd.DataFrame(hist)"
   ]
  },
  {
   "cell_type": "code",
   "execution_count": 153,
   "id": "5963e44a-ee33-4993-a64b-3de06c811c35",
   "metadata": {},
   "outputs": [
    {
     "name": "stdout",
     "output_type": "stream",
     "text": [
      "5/5 [==============================] - 0s 2ms/step - loss: 0.5862 - accuracy: 0.9301\n"
     ]
    },
    {
     "data": {
      "text/plain": [
       "[0.5862101912498474, 0.9300699234008789]"
      ]
     },
     "execution_count": 153,
     "metadata": {},
     "output_type": "execute_result"
    }
   ],
   "source": [
    "model.evaluate(X_test,y_test)"
   ]
  },
  {
   "cell_type": "code",
   "execution_count": 154,
   "id": "3f6d773f-b05b-4152-a76a-f41e84e3ccae",
   "metadata": {},
   "outputs": [
    {
     "data": {
      "text/plain": [
       "<AxesSubplot:>"
      ]
     },
     "execution_count": 154,
     "metadata": {},
     "output_type": "execute_result"
    },
    {
     "data": {
      "image/png": "[encoded data removed]",
      "text/plain": [
       "<Figure size 1080x576 with 1 Axes>"
      ]
     },
     "metadata": {},
     "output_type": "display_data"
    }
   ],
   "source": [
    "pd.DataFrame(hist).plot()"
   ]
  },
  {
   "cell_type": "code",
   "execution_count": 155,
   "id": "b04477be-4920-45ff-8a82-8613786e54f3",
   "metadata": {},
   "outputs": [
    {
     "data": {
      "text/plain": [
       "<AxesSubplot:>"
      ]
     },
     "execution_count": 155,
     "metadata": {},
     "output_type": "execute_result"
    },
    {
     "data": {
      "image/png": "[encoded data removed]",
      "text/plain": [
       "<Figure size 1080x576 with 1 Axes>"
      ]
     },
     "metadata": {},
     "output_type": "display_data"
    }
   ],
   "source": [
    "pd.DataFrame(hist)[['val_loss','loss']].plot()"
   ]
  },
  {
   "cell_type": "code",
   "execution_count": 156,
   "id": "aa1065b1-6ec6-4f67-a6f3-f3373f9332c1",
   "metadata": {},
   "outputs": [
    {
     "data": {
      "text/plain": [
       "<AxesSubplot:>"
      ]
     },
     "execution_count": 156,
     "metadata": {},
     "output_type": "execute_result"
    },
    {
     "data": {
      "image/png": "[encoded data removed]",
      "text/plain": [
       "<Figure size 1080x576 with 1 Axes>"
      ]
     },
     "metadata": {},
     "output_type": "display_data"
    }
   ],
   "source": [
    "pd.DataFrame(hist)[['accuracy','val_accuracy']].plot()"
   ]
  },
  {
   "cell_type": "code",
   "execution_count": 157,
   "id": "4152ad34-3d0b-407b-aaa0-29dde66860c7",
   "metadata": {},
   "outputs": [],
   "source": [
    "pred = model.predict(X_test)"
   ]
  },
  {
   "cell_type": "code",
   "execution_count": 158,
   "id": "a10560c8-8c46-479c-b92b-546ce23cbd3e",
   "metadata": {},
   "outputs": [],
   "source": [
    "final = pd.DataFrame(pred, columns=['logit'])"
   ]
  },
  {
   "cell_type": "code",
   "execution_count": 159,
   "id": "87e45654-124b-424c-9933-ba0e9776ea4e",
   "metadata": {},
   "outputs": [],
   "source": [
    "final['binary']=final['logit'].apply(lambda x:1 if x>=0.50 else 0)"
   ]
  },
  {
   "cell_type": "code",
   "execution_count": 160,
   "id": "dff781a3-d1a0-4d3d-ad08-132eff7faa8b",
   "metadata": {},
   "outputs": [],
   "source": [
    "from sklearn.metrics import classification_report, confusion_matrix"
   ]
  },
  {
   "cell_type": "code",
   "execution_count": null,
   "id": "7099b6f5-f54d-4659-afab-669e544a360b",
   "metadata": {},
   "outputs": [],
   "source": []
  },
  {
   "cell_type": "code",
   "execution_count": 161,
   "id": "1fba6eee-2235-4bf2-8b44-20d4064aaa39",
   "metadata": {},
   "outputs": [
    {
     "name": "stdout",
     "output_type": "stream",
     "text": [
      "              precision    recall  f1-score   support\n",
      "\n",
      "           0       0.94      0.94      0.94        88\n",
      "           1       0.91      0.91      0.91        55\n",
      "\n",
      "    accuracy                           0.93       143\n",
      "   macro avg       0.93      0.93      0.93       143\n",
      "weighted avg       0.93      0.93      0.93       143\n",
      "\n"
     ]
    }
   ],
   "source": [
    "print(classification_report(y_test,final['binary'].values))"
   ]
  },
  {
   "cell_type": "code",
   "execution_count": 162,
   "id": "6fab3f55-1151-4dc5-8744-5c2f910d8fd4",
   "metadata": {},
   "outputs": [
    {
     "data": {
      "text/plain": [
       "<AxesSubplot:>"
      ]
     },
     "execution_count": 162,
     "metadata": {},
     "output_type": "execute_result"
    },
    {
     "data": {
      "image/png": "[encoded data removed]",
      "text/plain": [
       "<Figure size 1080x576 with 2 Axes>"
      ]
     },
     "metadata": {},
     "output_type": "display_data"
    }
   ],
   "source": [
    "cm=confusion_matrix(y_test,final.binary)\n",
    "sns.heatmap(cm,annot=True,cmap='Accent')"
   ]
  },
  {
   "cell_type": "code",
   "execution_count": null,
   "id": "85d273c5-3942-4498-9db6-145b8cea1925",
   "metadata": {},
   "outputs": [],
   "source": []
  },
  {
   "cell_type": "code",
   "execution_count": null,
   "id": "8659f4e0-2888-4276-94aa-82b1f597c708",
   "metadata": {},
   "outputs": [],
   "source": []
  },
  {
   "cell_type": "code",
   "execution_count": 163,
   "id": "d97d1171-1a04-4c77-b1b1-d079db8e7ce9",
   "metadata": {},
   "outputs": [
    {
     "name": "stdout",
     "output_type": "stream",
     "text": [
      "0:00:23.611274\n"
     ]
    }
   ],
   "source": [
    "print(datetime.now() - a)"
   ]
  },
  {
   "cell_type": "code",
   "execution_count": null,
   "id": "544e6737-0ac4-428c-8f6d-a450aaf14333",
   "metadata": {},
   "outputs": [],
   "source": []
  },
  {
   "cell_type": "code",
   "execution_count": null,
   "id": "d94750fc-4432-4132-bcaa-9cbf4783e508",
   "metadata": {},
   "outputs": [],
   "source": []
  }
 ],
 "metadata": {
  "kernelspec": {
   "display_name": "tf500",
   "language": "python",
   "name": "tf500"
  },
  "language_info": {
   "codemirror_mode": {
    "name": "ipython",
    "version": 3
   },
   "file_extension": ".py",
   "mimetype": "text/x-python",
   "name": "python",
   "nbconvert_exporter": "python",
   "pygments_lexer": "ipython3",
   "version": "3.10.0"
  }
 },
 "nbformat": 4,
 "nbformat_minor": 5
}
