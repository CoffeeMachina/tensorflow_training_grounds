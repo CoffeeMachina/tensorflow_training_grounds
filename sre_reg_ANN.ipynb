{
 "cells": [
  {
   "cell_type": "markdown",
   "id": "f36b65bc-6eb2-43a7-9785-2bdc698c0787",
   "metadata": {},
   "source": [
    "# <font color ='plum'> Input - Output NN ~ Linear Regression w/ MSE optimizer </font>"
   ]
  },
  {
   "cell_type": "code",
   "execution_count": 1,
   "id": "671bf049-8cc6-4e3e-aecd-6c8e81676111",
   "metadata": {},
   "outputs": [
    {
     "name": "stdout",
     "output_type": "stream",
     "text": [
      "# GPUs:  1\n",
      "CPU times: total: 5.31 s\n",
      "Wall time: 6.57 s\n"
     ]
    }
   ],
   "source": [
    "%%time\n",
    "from datetime import datetime\n",
    "a = datetime.now()\n",
    "\n",
    "import seaborn as sns\n",
    "import matplotlib.pyplot as plt\n",
    "\n",
    "sns.set_palette(\"afmhot\")\n",
    "# sns.set_palette(\"twilight\")\n",
    "# sns.set_style(\"darkgrid\",{\"axes.facebolor\":\"0.90\"})\n",
    "sns.set_context(\"notebook\", font_scale=1.5, rc={\"lines.linewidth\":1.5})\n",
    "sns.set_style(\"whitegrid\")\n",
    "import pylab\n",
    "pylab.rcParams['figure.figsize'] = (15, 8)\n",
    "plt.style.use('dark_background')\n",
    "\n",
    "\n",
    "import tensorflow as tf\n",
    "print(\"# GPUs: \", len(tf.config.experimental.list_physical_devices(\"GPU\")))\n",
    "import numpy as np\n",
    "import tensorflow.keras as tfk\n",
    "import pandas as pd\n",
    "from tensorflow.keras.models import Sequential\n",
    "from tensorflow.keras.layers import Dense, Flatten"
   ]
  },
  {
   "cell_type": "code",
   "execution_count": 2,
   "id": "3b33c4ec-37ab-4c8e-8984-4afece3500c6",
   "metadata": {},
   "outputs": [],
   "source": [
    "df = pd.read_csv(\"C:/Users/diablo/3D Objects/YYY_Tensorflow/data/heart.data.csv\")\n",
    "df = df[[ 'biking', 'smoking', 'heart.disease']] "
   ]
  },
  {
   "cell_type": "code",
   "execution_count": 3,
   "id": "c972f45c-0c03-437b-9c93-373eb06e3db1",
   "metadata": {},
   "outputs": [
    {
     "data": {
      "text/html": [
       "<div>\n",
       "<style scoped>\n",
       "    .dataframe tbody tr th:only-of-type {\n",
       "        vertical-align: middle;\n",
       "    }\n",
       "\n",
       "    .dataframe tbody tr th {\n",
       "        vertical-align: top;\n",
       "    }\n",
       "\n",
       "    .dataframe thead th {\n",
       "        text-align: right;\n",
       "    }\n",
       "</style>\n",
       "<table border=\"1\" class=\"dataframe\">\n",
       "  <thead>\n",
       "    <tr style=\"text-align: right;\">\n",
       "      <th></th>\n",
       "      <th>biking</th>\n",
       "      <th>smoking</th>\n",
       "      <th>heart.disease</th>\n",
       "    </tr>\n",
       "  </thead>\n",
       "  <tbody>\n",
       "    <tr>\n",
       "      <th>0</th>\n",
       "      <td>30.801246</td>\n",
       "      <td>10.896608</td>\n",
       "      <td>11.769423</td>\n",
       "    </tr>\n",
       "    <tr>\n",
       "      <th>1</th>\n",
       "      <td>65.129215</td>\n",
       "      <td>2.219563</td>\n",
       "      <td>2.854081</td>\n",
       "    </tr>\n",
       "    <tr>\n",
       "      <th>2</th>\n",
       "      <td>1.959665</td>\n",
       "      <td>17.588331</td>\n",
       "      <td>17.177803</td>\n",
       "    </tr>\n",
       "  </tbody>\n",
       "</table>\n",
       "</div>"
      ],
      "text/plain": [
       "      biking    smoking  heart.disease\n",
       "0  30.801246  10.896608      11.769423\n",
       "1  65.129215   2.219563       2.854081\n",
       "2   1.959665  17.588331      17.177803"
      ]
     },
     "execution_count": 3,
     "metadata": {},
     "output_type": "execute_result"
    }
   ],
   "source": [
    "df.head(3)"
   ]
  },
  {
   "cell_type": "code",
   "execution_count": 4,
   "id": "b7725891-0043-4d3c-b719-5b7b70857ce8",
   "metadata": {},
   "outputs": [
    {
     "data": {
      "text/html": [
       "<div>\n",
       "<style scoped>\n",
       "    .dataframe tbody tr th:only-of-type {\n",
       "        vertical-align: middle;\n",
       "    }\n",
       "\n",
       "    .dataframe tbody tr th {\n",
       "        vertical-align: top;\n",
       "    }\n",
       "\n",
       "    .dataframe thead th {\n",
       "        text-align: right;\n",
       "    }\n",
       "</style>\n",
       "<table border=\"1\" class=\"dataframe\">\n",
       "  <thead>\n",
       "    <tr style=\"text-align: right;\">\n",
       "      <th></th>\n",
       "      <th>biking</th>\n",
       "      <th>smoking</th>\n",
       "      <th>heart.disease</th>\n",
       "    </tr>\n",
       "  </thead>\n",
       "  <tbody>\n",
       "    <tr>\n",
       "      <th>count</th>\n",
       "      <td>498.000000</td>\n",
       "      <td>498.000000</td>\n",
       "      <td>498.000000</td>\n",
       "    </tr>\n",
       "    <tr>\n",
       "      <th>mean</th>\n",
       "      <td>37.788411</td>\n",
       "      <td>15.435034</td>\n",
       "      <td>10.174538</td>\n",
       "    </tr>\n",
       "    <tr>\n",
       "      <th>std</th>\n",
       "      <td>21.481519</td>\n",
       "      <td>8.289959</td>\n",
       "      <td>4.571874</td>\n",
       "    </tr>\n",
       "    <tr>\n",
       "      <th>min</th>\n",
       "      <td>1.119154</td>\n",
       "      <td>0.525850</td>\n",
       "      <td>0.551898</td>\n",
       "    </tr>\n",
       "    <tr>\n",
       "      <th>25%</th>\n",
       "      <td>20.204598</td>\n",
       "      <td>8.279776</td>\n",
       "      <td>6.513683</td>\n",
       "    </tr>\n",
       "    <tr>\n",
       "      <th>50%</th>\n",
       "      <td>35.824459</td>\n",
       "      <td>15.814614</td>\n",
       "      <td>10.385255</td>\n",
       "    </tr>\n",
       "    <tr>\n",
       "      <th>75%</th>\n",
       "      <td>57.852786</td>\n",
       "      <td>22.568925</td>\n",
       "      <td>13.724024</td>\n",
       "    </tr>\n",
       "    <tr>\n",
       "      <th>max</th>\n",
       "      <td>74.907111</td>\n",
       "      <td>29.946743</td>\n",
       "      <td>20.453496</td>\n",
       "    </tr>\n",
       "  </tbody>\n",
       "</table>\n",
       "</div>"
      ],
      "text/plain": [
       "           biking     smoking  heart.disease\n",
       "count  498.000000  498.000000     498.000000\n",
       "mean    37.788411   15.435034      10.174538\n",
       "std     21.481519    8.289959       4.571874\n",
       "min      1.119154    0.525850       0.551898\n",
       "25%     20.204598    8.279776       6.513683\n",
       "50%     35.824459   15.814614      10.385255\n",
       "75%     57.852786   22.568925      13.724024\n",
       "max     74.907111   29.946743      20.453496"
      ]
     },
     "execution_count": 4,
     "metadata": {},
     "output_type": "execute_result"
    }
   ],
   "source": [
    "df.describe()"
   ]
  },
  {
   "cell_type": "code",
   "execution_count": 5,
   "id": "ccf64dde-1a41-498e-a66f-7c11e1683627",
   "metadata": {},
   "outputs": [],
   "source": [
    "target = 'heart.disease'\n",
    "y=df[target].to_numpy()\n",
    "X = df.loc[:, df.columns != target]"
   ]
  },
  {
   "cell_type": "code",
   "execution_count": 6,
   "id": "6480148d-23ff-47e0-a555-24666ad3aa00",
   "metadata": {},
   "outputs": [],
   "source": [
    "from sklearn.model_selection import train_test_split\n",
    "X_train, X_test, y_train, y_test = train_test_split( X, y, test_size=0.20, random_state=465)"
   ]
  },
  {
   "cell_type": "code",
   "execution_count": 7,
   "id": "abfca5a0-8982-471e-a293-6cda3d5cf7d8",
   "metadata": {},
   "outputs": [],
   "source": [
    "from sklearn.preprocessing import MinMaxScaler\n",
    "\n",
    "scaler=MinMaxScaler()\n",
    "X_train=scaler.fit_transform(X_train)\n",
    "\n",
    "X_test=scaler.transform(X_test)"
   ]
  },
  {
   "cell_type": "code",
   "execution_count": 8,
   "id": "d34f3413-8cdf-4b98-a78c-7d637145910c",
   "metadata": {},
   "outputs": [
    {
     "data": {
      "text/plain": [
       "LinearRegression()"
      ]
     },
     "execution_count": 8,
     "metadata": {},
     "output_type": "execute_result"
    }
   ],
   "source": [
    "from sklearn.linear_model import LinearRegression\n",
    "\n",
    "reg_model = LinearRegression()\n",
    "\n",
    "reg_model.fit(X_train,y_train)"
   ]
  },
  {
   "cell_type": "code",
   "execution_count": 9,
   "id": "c587ff99-d56a-4d28-8b4f-5b8ea553842d",
   "metadata": {},
   "outputs": [
    {
     "name": "stdout",
     "output_type": "stream",
     "text": [
      "0.9798457883392714\n"
     ]
    }
   ],
   "source": [
    "print(reg_model.score(X_train,y_train))"
   ]
  },
  {
   "cell_type": "code",
   "execution_count": 10,
   "id": "2ab1faa9-bd9f-4727-9a20-c1f4cb67b73f",
   "metadata": {},
   "outputs": [
    {
     "data": {
      "text/plain": [
       "(array([-14.66961522,   5.16521963]), 14.831230760702002)"
      ]
     },
     "execution_count": 10,
     "metadata": {},
     "output_type": "execute_result"
    }
   ],
   "source": [
    "reg_model.coef_, reg_model.intercept_\n",
    "\n",
    "# pre_scale: (array([-0.20076448,  0.17827087]), 15.017182027682155)"
   ]
  },
  {
   "cell_type": "code",
   "execution_count": 11,
   "id": "3dbe6f63-5776-4d46-af5a-44ba5ddb32cc",
   "metadata": {},
   "outputs": [],
   "source": [
    "# (array([-14.81400097,   5.24488822]), 14.886239364884904) confirmed same with sreeni"
   ]
  },
  {
   "cell_type": "code",
   "execution_count": 12,
   "id": "4bde3504-4a62-47b2-8bb8-13a1e008b9d3",
   "metadata": {},
   "outputs": [],
   "source": [
    "pred = reg_model.predict(X_test)"
   ]
  },
  {
   "cell_type": "code",
   "execution_count": 13,
   "id": "d3fc5162-b40d-49b5-8dcb-74aedeb9a6fe",
   "metadata": {},
   "outputs": [],
   "source": [
    "from sklearn.metrics import mean_absolute_error as mae, mean_squared_error as mse"
   ]
  },
  {
   "cell_type": "code",
   "execution_count": 14,
   "id": "090cbd37-ae25-42e3-9add-00a184987483",
   "metadata": {},
   "outputs": [
    {
     "data": {
      "text/plain": [
       "0.5365576724820269"
      ]
     },
     "execution_count": 14,
     "metadata": {},
     "output_type": "execute_result"
    }
   ],
   "source": [
    "mae(pred,y_test)"
   ]
  },
  {
   "cell_type": "code",
   "execution_count": 15,
   "id": "3f3283d2-4167-4644-a59d-cd28320d565a",
   "metadata": {},
   "outputs": [
    {
     "data": {
      "text/plain": [
       "(0.46071200704187526, 0.6787576939098925)"
      ]
     },
     "execution_count": 15,
     "metadata": {},
     "output_type": "execute_result"
    }
   ],
   "source": [
    "mse(pred,y_test), mse(pred,y_test)**0.5"
   ]
  },
  {
   "cell_type": "code",
   "execution_count": 16,
   "id": "32cf6717-0474-439d-b6a1-e683b68e0994",
   "metadata": {},
   "outputs": [
    {
     "name": "stderr",
     "output_type": "stream",
     "text": [
      "C:\\Users\\diablo\\AppData\\Local\\Temp\\ipykernel_10848\\3309069358.py:1: RuntimeWarning: invalid value encountered in double_scalars\n",
      "  np.mean(pred-y_test)**0.5\n"
     ]
    },
    {
     "data": {
      "text/plain": [
       "nan"
      ]
     },
     "execution_count": 16,
     "metadata": {},
     "output_type": "execute_result"
    }
   ],
   "source": [
    "np.mean(pred-y_test)**0.5"
   ]
  },
  {
   "cell_type": "code",
   "execution_count": 17,
   "id": "18b2f4ad-59c2-4cb3-8929-7055cfdddeb5",
   "metadata": {},
   "outputs": [
    {
     "data": {
      "text/plain": [
       "0.5062888947392422"
      ]
     },
     "execution_count": 17,
     "metadata": {},
     "output_type": "execute_result"
    }
   ],
   "source": [
    "X_train.mean()"
   ]
  },
  {
   "cell_type": "markdown",
   "id": "6dfbb2bd-2546-4a1d-a125-cbe28c7e3742",
   "metadata": {},
   "source": [
    "# <font color ='plum'> Apply NN ~ SGD </font>"
   ]
  },
  {
   "cell_type": "code",
   "execution_count": 18,
   "id": "d7bdfad0-3641-480f-8099-8639574adf1f",
   "metadata": {},
   "outputs": [],
   "source": [
    "import tensorflow.keras as tfk"
   ]
  },
  {
   "cell_type": "code",
   "execution_count": 19,
   "id": "80765241-9074-497d-9f5b-9cdc1086eae6",
   "metadata": {},
   "outputs": [],
   "source": [
    "from tensorflow.keras.layers import Dense, Activation, Dropout, Input, InputLayer\n",
    "from tensorflow.keras.optimizers import SGD"
   ]
  },
  {
   "cell_type": "code",
   "execution_count": 20,
   "id": "81a61d9b-bb0d-4865-b452-92c1d4480f03",
   "metadata": {},
   "outputs": [],
   "source": [
    "model = tfk.models.Sequential()"
   ]
  },
  {
   "cell_type": "code",
   "execution_count": 21,
   "id": "26843735-6be3-4ef8-b669-fbccb646a63d",
   "metadata": {},
   "outputs": [],
   "source": [
    "opt = SGD(learning_rate =0.1)"
   ]
  },
  {
   "cell_type": "code",
   "execution_count": 22,
   "id": "27f2654b-56c8-451a-9db4-58542d13d104",
   "metadata": {},
   "outputs": [
    {
     "data": {
      "text/plain": [
       "(398, 2)"
      ]
     },
     "execution_count": 22,
     "metadata": {},
     "output_type": "execute_result"
    }
   ],
   "source": [
    "X_train.shape"
   ]
  },
  {
   "cell_type": "code",
   "execution_count": 23,
   "id": "821ece55-abdb-4fa9-8abd-154ec7bac84c",
   "metadata": {},
   "outputs": [
    {
     "name": "stdout",
     "output_type": "stream",
     "text": [
      "Model: \"sequential\"\n",
      "_________________________________________________________________\n",
      " Layer (type)                Output Shape              Param #   \n",
      "=================================================================\n",
      " dense (Dense)               (None, 1)                 3         \n",
      "                                                                 \n",
      "=================================================================\n",
      "Total params: 3\n",
      "Trainable params: 3\n",
      "Non-trainable params: 0\n",
      "_________________________________________________________________\n",
      "None\n"
     ]
    }
   ],
   "source": [
    "model.add(InputLayer(input_shape=(X_train.shape[1],)))\n",
    "model.add(Dense(1))\n",
    "model.compile(loss='mse',optimizer=opt)\n",
    "print(model.summary())"
   ]
  },
  {
   "cell_type": "code",
   "execution_count": 24,
   "id": "05ec1467-f5ea-4d5d-a283-db5b862f29a4",
   "metadata": {},
   "outputs": [
    {
     "name": "stdout",
     "output_type": "stream",
     "text": [
      "CPU times: total: 2.58 s\n",
      "Wall time: 2.23 s\n"
     ]
    }
   ],
   "source": [
    "%%time\n",
    "history = model.fit(X_train, y_train, verbose=0,epochs=28, validation_data = (X_test, y_test))"
   ]
  },
  {
   "cell_type": "code",
   "execution_count": 25,
   "id": "1f1e58a6-2dbe-4d07-9574-cea947e35285",
   "metadata": {},
   "outputs": [],
   "source": [
    "hist=model.history.history"
   ]
  },
  {
   "cell_type": "code",
   "execution_count": 26,
   "id": "6a304b7d-d9cb-422c-9c48-eece6e86f4d0",
   "metadata": {},
   "outputs": [
    {
     "data": {
      "text/plain": [
       "<AxesSubplot:>"
      ]
     },
     "execution_count": 26,
     "metadata": {},
     "output_type": "execute_result"
    },
    {
     "data": {
      "image/png": "[encoded data removed]",
      "text/plain": [
       "<Figure size 1080x576 with 1 Axes>"
      ]
     },
     "metadata": {},
     "output_type": "display_data"
    }
   ],
   "source": [
    "pd.DataFrame(hist).plot()"
   ]
  },
  {
   "cell_type": "code",
   "execution_count": 27,
   "id": "e0cd9803-4454-4578-82f3-21afb9f28df9",
   "metadata": {},
   "outputs": [
    {
     "data": {
      "text/plain": [
       "(array([[-14.458705 ],\n",
       "        [  5.3260317]], dtype=float32),\n",
       " array([14.652039], dtype=float32))"
      ]
     },
     "execution_count": 27,
     "metadata": {},
     "output_type": "execute_result"
    }
   ],
   "source": [
    "weights=model.layers[0].get_weights()[0]\n",
    "biases=model.layers[0].get_weights()[1]\n",
    "weights,biases"
   ]
  },
  {
   "cell_type": "code",
   "execution_count": 28,
   "id": "12040303-1456-462d-a672-dc679eb9b8d9",
   "metadata": {},
   "outputs": [],
   "source": [
    "# learning_rate = 0.1\n",
    "# (array([[-14.827212 ],\n",
    "#         [  5.2242913]], dtype=float32),\n",
    "#  array([14.870144], dtype=float32))\n",
    "\n",
    "# MSE: 0.45138202063390553\n",
    "# MAE: 0.525869890771895"
   ]
  },
  {
   "cell_type": "code",
   "execution_count": 29,
   "id": "9c3ebda2-94df-4e5c-98a3-6e5ec0e97527",
   "metadata": {},
   "outputs": [
    {
     "name": "stdout",
     "output_type": "stream",
     "text": [
      "Model: \"sequential\"\n",
      "_________________________________________________________________\n",
      " Layer (type)                Output Shape              Param #   \n",
      "=================================================================\n",
      " dense (Dense)               (None, 1)                 3         \n",
      "                                                                 \n",
      "=================================================================\n",
      "Total params: 3\n",
      "Trainable params: 3\n",
      "Non-trainable params: 0\n",
      "_________________________________________________________________\n"
     ]
    }
   ],
   "source": [
    "model.summary()"
   ]
  },
  {
   "cell_type": "code",
   "execution_count": 30,
   "id": "a51b3f2f-0ff5-438e-814e-5b12cc0f6716",
   "metadata": {},
   "outputs": [
    {
     "data": {
      "text/plain": [
       "<keras.layers.core.dense.Dense at 0x1e142b63880>"
      ]
     },
     "execution_count": 30,
     "metadata": {},
     "output_type": "execute_result"
    }
   ],
   "source": [
    "model.layers[0]"
   ]
  },
  {
   "cell_type": "code",
   "execution_count": 31,
   "id": "34197651-404b-4dc7-875c-333f8d153e22",
   "metadata": {},
   "outputs": [
    {
     "name": "stdout",
     "output_type": "stream",
     "text": [
      "4/4 [==============================] - 0s 2ms/step - loss: 0.4695\n"
     ]
    },
    {
     "data": {
      "text/plain": [
       "0.4694518744945526"
      ]
     },
     "execution_count": 31,
     "metadata": {},
     "output_type": "execute_result"
    }
   ],
   "source": [
    "model.evaluate(X_test,y_test)"
   ]
  },
  {
   "cell_type": "code",
   "execution_count": 32,
   "id": "e8cdeee6-cdc5-4320-abd4-0625c886feac",
   "metadata": {},
   "outputs": [],
   "source": [
    "# (array([-14.81400097,   5.22417421]), 14.906953371822128)\n",
    "# (array([-14.81400097,   5.24488822]), 14.886239364884904) confirmed same with sreeni"
   ]
  },
  {
   "cell_type": "code",
   "execution_count": 33,
   "id": "322c9b5c-5844-47b3-b3b3-eb5757a86463",
   "metadata": {},
   "outputs": [],
   "source": [
    "pred = model.predict(X_test)"
   ]
  },
  {
   "cell_type": "code",
   "execution_count": 34,
   "id": "796b2d1e-441f-46a9-b706-93d6ac1ec9bc",
   "metadata": {},
   "outputs": [
    {
     "name": "stdout",
     "output_type": "stream",
     "text": [
      "MSE: 0.46945176492828794\n",
      "MAE: 0.5373368245939864\n"
     ]
    }
   ],
   "source": [
    "print(f\"MSE: {mse(y_test, pred)}\")\n",
    "print(f\"MAE: {mae(y_test,pred)}\")"
   ]
  },
  {
   "cell_type": "code",
   "execution_count": null,
   "id": "683bde2d-a8e3-45d9-85f0-f1fc45e355e5",
   "metadata": {},
   "outputs": [],
   "source": []
  },
  {
   "cell_type": "code",
   "execution_count": null,
   "id": "f7d92271-54a6-4efb-af2f-157a9ea4378d",
   "metadata": {},
   "outputs": [],
   "source": []
  },
  {
   "cell_type": "code",
   "execution_count": null,
   "id": "b3a97b83-abb4-4509-9e01-2108cafd9171",
   "metadata": {},
   "outputs": [],
   "source": []
  }
 ],
 "metadata": {
  "kernelspec": {
   "display_name": "tf500",
   "language": "python",
   "name": "tf500"
  },
  "language_info": {
   "codemirror_mode": {
    "name": "ipython",
    "version": 3
   },
   "file_extension": ".py",
   "mimetype": "text/x-python",
   "name": "python",
   "nbconvert_exporter": "python",
   "pygments_lexer": "ipython3",
   "version": "3.10.0"
  }
 },
 "nbformat": 4,
 "nbformat_minor": 5
}
