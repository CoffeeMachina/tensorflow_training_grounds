{
 "cells": [
  {
   "cell_type": "code",
   "execution_count": 1,
   "id": "712ca925-caaa-410c-a7d4-33b24cd73f2d",
   "metadata": {},
   "outputs": [
    {
     "name": "stdout",
     "output_type": "stream",
     "text": [
      "# GPUs:  1\n",
      "CPU times: total: 7.06 s\n",
      "Wall time: 8.29 s\n"
     ]
    }
   ],
   "source": [
    "%%time\n",
    "from datetime import datetime\n",
    "a = datetime.now()\n",
    "\n",
    "import seaborn as sns\n",
    "import matplotlib.pyplot as plt\n",
    "\n",
    "sns.set_palette(\"afmhot\")\n",
    "# sns.set_palette(\"twilight\")\n",
    "# sns.set_style(\"darkgrid\",{\"axes.facebolor\":\"0.90\"})\n",
    "sns.set_context(\"notebook\", font_scale=1.5, rc={\"lines.linewidth\":1.5})\n",
    "sns.set_style(\"whitegrid\")\n",
    "import pylab\n",
    "pylab.rcParams['figure.figsize'] = (15, 8)\n",
    "plt.style.use('dark_background')\n",
    "\n",
    "\n",
    "import tensorflow as tf\n",
    "print(\"# GPUs: \", len(tf.config.experimental.list_physical_devices(\"GPU\")))\n",
    "import numpy as np\n",
    "import tensorflow.keras as tfk\n",
    "import pandas as pd\n",
    "from tensorflow.keras.models import Sequential\n",
    "from tensorflow.keras.layers import Dense, Flatten\n",
    "data=tfk.datasets.mnist.load_data()\n",
    "\n",
    "train_images = data[0][0]\n",
    "train_labels = data[0][1]\n",
    "\n",
    "test_images = data[1][0]\n",
    "test_labels = data[1][1]\n",
    "\n",
    "# Scale the data ~ B&W /255.\n",
    "train_images = train_images/255.000\n",
    "test_images = test_images/255.0000\n",
    "\n",
    "# Model\n"
   ]
  },
  {
   "cell_type": "code",
   "execution_count": 57,
   "id": "b7b1c5fd-0108-463c-bd23-db2285c50b99",
   "metadata": {},
   "outputs": [
    {
     "data": {
      "text/plain": [
       "(array([0, 1, 2, 3, 4, 5, 6, 7, 8, 9]),\n",
       " [Text(0, 0, '(0,)'),\n",
       "  Text(1, 0, '(1,)'),\n",
       "  Text(2, 0, '(2,)'),\n",
       "  Text(3, 0, '(3,)'),\n",
       "  Text(4, 0, '(4,)'),\n",
       "  Text(5, 0, '(5,)'),\n",
       "  Text(6, 0, '(6,)'),\n",
       "  Text(7, 0, '(7,)'),\n",
       "  Text(8, 0, '(8,)'),\n",
       "  Text(9, 0, '(9,)')])"
      ]
     },
     "execution_count": 57,
     "metadata": {},
     "output_type": "execute_result"
    },
    {
     "data": {
      "image/png": "[encoded data removed]",
      "text/plain": [
       "<Figure size 1080x576 with 1 Axes>"
      ]
     },
     "metadata": {},
     "output_type": "display_data"
    }
   ],
   "source": [
    "pd.DataFrame(train_labels).value_counts().sort_index().plot(kind='bar',color=['r','green','blue','yellow','orange','magenta'])\n",
    "plt.xticks(rotation=360)"
   ]
  },
  {
   "cell_type": "code",
   "execution_count": 26,
   "id": "f4bff955-e7b7-41d5-8376-30db7419d019",
   "metadata": {},
   "outputs": [
    {
     "data": {
      "text/plain": [
       "10"
      ]
     },
     "execution_count": 26,
     "metadata": {},
     "output_type": "execute_result"
    }
   ],
   "source": [
    "len(pd.DataFrame(test_labels).value_counts())"
   ]
  },
  {
   "cell_type": "code",
   "execution_count": 44,
   "id": "342a91e8-7bf3-463e-97cc-082f29e6e137",
   "metadata": {},
   "outputs": [
    {
     "data": {
      "text/plain": [
       "256"
      ]
     },
     "execution_count": 44,
     "metadata": {},
     "output_type": "execute_result"
    }
   ],
   "source": [
    "2**8"
   ]
  },
  {
   "cell_type": "code",
   "execution_count": 27,
   "id": "1031608d-92ac-4f09-a1e5-538115b1c78d",
   "metadata": {},
   "outputs": [],
   "source": [
    "model = Sequential()\n",
    "model.add(Flatten(input_shape=(28,28)))\n",
    "model.add(Dense(2**8, activation='relu'))\n",
    "\n",
    "\n",
    "model.add(Dense(10))"
   ]
  },
  {
   "cell_type": "code",
   "execution_count": 28,
   "id": "d4d626f8-d62c-48d3-a526-24f459242ac3",
   "metadata": {},
   "outputs": [
    {
     "data": {
      "text/plain": [
       "[<keras.layers.core.flatten.Flatten at 0x1859ce9d480>,\n",
       " <keras.layers.core.dense.Dense at 0x1859ce9bf70>,\n",
       " <keras.layers.core.dense.Dense at 0x1859ad281c0>]"
      ]
     },
     "execution_count": 28,
     "metadata": {},
     "output_type": "execute_result"
    }
   ],
   "source": [
    "model.layers"
   ]
  },
  {
   "cell_type": "code",
   "execution_count": null,
   "id": "3aabecae-a5c8-4b58-b1fe-389a627fca5c",
   "metadata": {},
   "outputs": [],
   "source": []
  },
  {
   "cell_type": "code",
   "execution_count": 29,
   "id": "8427c06c-e0ef-4d70-b282-fdf949f0f389",
   "metadata": {},
   "outputs": [],
   "source": [
    "model.compile(optimizer='adam', \n",
    "              loss=tfk.losses.SparseCategoricalCrossentropy(from_logits=True),\n",
    "              metrics=['accuracy'])"
   ]
  },
  {
   "cell_type": "code",
   "execution_count": 30,
   "id": "4afde9f4-f021-47af-b79e-6ae57fdbb254",
   "metadata": {},
   "outputs": [
    {
     "data": {
      "text/plain": [
       "60000"
      ]
     },
     "execution_count": 30,
     "metadata": {},
     "output_type": "execute_result"
    }
   ],
   "source": [
    "len(train_labels)"
   ]
  },
  {
   "cell_type": "code",
   "execution_count": 31,
   "id": "b4abb025-2cec-45b5-9ee9-db23adb04f0a",
   "metadata": {},
   "outputs": [
    {
     "name": "stdout",
     "output_type": "stream",
     "text": [
      "Epoch 1/20\n",
      "1875/1875 [==============================] - 4s 2ms/step - loss: 0.1929 - accuracy: 0.9423 - val_loss: 0.0958 - val_accuracy: 0.9728\n",
      "Epoch 2/20\n",
      "1875/1875 [==============================] - 4s 2ms/step - loss: 0.0767 - accuracy: 0.9759 - val_loss: 0.0728 - val_accuracy: 0.9769\n",
      "Epoch 3/20\n",
      "1875/1875 [==============================] - 4s 2ms/step - loss: 0.0495 - accuracy: 0.9840 - val_loss: 0.0740 - val_accuracy: 0.9775\n",
      "Epoch 4/20\n",
      "1875/1875 [==============================] - 4s 2ms/step - loss: 0.0358 - accuracy: 0.9878 - val_loss: 0.0708 - val_accuracy: 0.9777\n",
      "Epoch 5/20\n",
      "1875/1875 [==============================] - 4s 2ms/step - loss: 0.0257 - accuracy: 0.9916 - val_loss: 0.0729 - val_accuracy: 0.9801\n",
      "Epoch 6/20\n",
      "1875/1875 [==============================] - 4s 2ms/step - loss: 0.0199 - accuracy: 0.9935 - val_loss: 0.0928 - val_accuracy: 0.9777\n",
      "Epoch 7/20\n",
      "1875/1875 [==============================] - 4s 2ms/step - loss: 0.0177 - accuracy: 0.9938 - val_loss: 0.0780 - val_accuracy: 0.9797\n",
      "Epoch 8/20\n",
      "1875/1875 [==============================] - 4s 2ms/step - loss: 0.0141 - accuracy: 0.9956 - val_loss: 0.0905 - val_accuracy: 0.9802\n",
      "Epoch 9/20\n",
      "1875/1875 [==============================] - 4s 2ms/step - loss: 0.0122 - accuracy: 0.9961 - val_loss: 0.0871 - val_accuracy: 0.9803\n",
      "Epoch 10/20\n",
      "1875/1875 [==============================] - 4s 2ms/step - loss: 0.0116 - accuracy: 0.9961 - val_loss: 0.0885 - val_accuracy: 0.9810\n",
      "Epoch 11/20\n",
      "1875/1875 [==============================] - 4s 2ms/step - loss: 0.0105 - accuracy: 0.9966 - val_loss: 0.0923 - val_accuracy: 0.9815\n",
      "Epoch 12/20\n",
      "1875/1875 [==============================] - 4s 2ms/step - loss: 0.0085 - accuracy: 0.9972 - val_loss: 0.0951 - val_accuracy: 0.9806\n",
      "Epoch 13/20\n",
      "1875/1875 [==============================] - 4s 2ms/step - loss: 0.0098 - accuracy: 0.9967 - val_loss: 0.1033 - val_accuracy: 0.9807\n",
      "Epoch 14/20\n",
      "1875/1875 [==============================] - 4s 2ms/step - loss: 0.0091 - accuracy: 0.9971 - val_loss: 0.1308 - val_accuracy: 0.9761\n",
      "Epoch 15/20\n",
      "1875/1875 [==============================] - 4s 2ms/step - loss: 0.0086 - accuracy: 0.9973 - val_loss: 0.1128 - val_accuracy: 0.9811\n",
      "Epoch 16/20\n",
      "1875/1875 [==============================] - 4s 2ms/step - loss: 0.0090 - accuracy: 0.9972 - val_loss: 0.1007 - val_accuracy: 0.9816\n",
      "Epoch 17/20\n",
      "1875/1875 [==============================] - 4s 2ms/step - loss: 0.0065 - accuracy: 0.9980 - val_loss: 0.1126 - val_accuracy: 0.9826\n",
      "Epoch 18/20\n",
      "1875/1875 [==============================] - 4s 2ms/step - loss: 0.0078 - accuracy: 0.9974 - val_loss: 0.1238 - val_accuracy: 0.9801\n",
      "Epoch 19/20\n",
      "1875/1875 [==============================] - 4s 2ms/step - loss: 0.0070 - accuracy: 0.9980 - val_loss: 0.1223 - val_accuracy: 0.9815\n",
      "Epoch 20/20\n",
      "1875/1875 [==============================] - 4s 2ms/step - loss: 0.0069 - accuracy: 0.9980 - val_loss: 0.1289 - val_accuracy: 0.9816\n",
      "CPU times: total: 1min 50s\n",
      "Wall time: 1min 17s\n"
     ]
    },
    {
     "data": {
      "text/plain": [
       "<keras.callbacks.History at 0x1859e6ab040>"
      ]
     },
     "execution_count": 31,
     "metadata": {},
     "output_type": "execute_result"
    }
   ],
   "source": [
    "%%time\n",
    "model.fit(train_images,train_labels, epochs = 20,validation_data=(test_images, test_labels),verbose=5)"
   ]
  },
  {
   "cell_type": "code",
   "execution_count": 66,
   "id": "4651ff9b-7853-43b4-9260-1bdfb37164ad",
   "metadata": {},
   "outputs": [
    {
     "data": {
      "text/plain": [
       "[0.9422666430473328,\n",
       " 0.9758999943733215,\n",
       " 0.9839500188827515,\n",
       " 0.9878333210945129,\n",
       " 0.991599977016449,\n",
       " 0.9934666752815247,\n",
       " 0.9937833547592163,\n",
       " 0.9956333041191101,\n",
       " 0.9960833191871643,\n",
       " 0.9961000084877014,\n",
       " 0.9965999722480774,\n",
       " 0.9971666932106018,\n",
       " 0.9967333078384399,\n",
       " 0.9970999956130981,\n",
       " 0.9973333477973938,\n",
       " 0.9972000122070312,\n",
       " 0.9980499744415283,\n",
       " 0.9974499940872192,\n",
       " 0.9980000257492065,\n",
       " 0.9980166554450989]"
      ]
     },
     "execution_count": 66,
     "metadata": {},
     "output_type": "execute_result"
    }
   ],
   "source": [
    "hist['accuracy']"
   ]
  },
  {
   "cell_type": "code",
   "execution_count": 32,
   "id": "075b3906-38df-4b07-ad88-076bc1ef859b",
   "metadata": {},
   "outputs": [],
   "source": [
    "hist=model.history.history"
   ]
  },
  {
   "cell_type": "code",
   "execution_count": 33,
   "id": "f0642052-d9c9-4480-b4c7-40c93548d11a",
   "metadata": {},
   "outputs": [
    {
     "data": {
      "text/plain": [
       "{'loss': [0.1928737759590149,\n",
       "  0.07674186676740646,\n",
       "  0.04950800910592079,\n",
       "  0.035755228251218796,\n",
       "  0.025662090629339218,\n",
       "  0.019912153482437134,\n",
       "  0.0176980160176754,\n",
       "  0.014143687672913074,\n",
       "  0.01218952052295208,\n",
       "  0.01162424311041832,\n",
       "  0.010488776490092278,\n",
       "  0.008511084131896496,\n",
       "  0.009813191369175911,\n",
       "  0.009079327806830406,\n",
       "  0.008617390878498554,\n",
       "  0.009007911197841167,\n",
       "  0.006512869615107775,\n",
       "  0.00781747605651617,\n",
       "  0.007022508420050144,\n",
       "  0.006912531331181526],\n",
       " 'accuracy': [0.9422666430473328,\n",
       "  0.9758999943733215,\n",
       "  0.9839500188827515,\n",
       "  0.9878333210945129,\n",
       "  0.991599977016449,\n",
       "  0.9934666752815247,\n",
       "  0.9937833547592163,\n",
       "  0.9956333041191101,\n",
       "  0.9960833191871643,\n",
       "  0.9961000084877014,\n",
       "  0.9965999722480774,\n",
       "  0.9971666932106018,\n",
       "  0.9967333078384399,\n",
       "  0.9970999956130981,\n",
       "  0.9973333477973938,\n",
       "  0.9972000122070312,\n",
       "  0.9980499744415283,\n",
       "  0.9974499940872192,\n",
       "  0.9980000257492065,\n",
       "  0.9980166554450989],\n",
       " 'val_loss': [0.09580502659082413,\n",
       "  0.07281152904033661,\n",
       "  0.07401367276906967,\n",
       "  0.07078388333320618,\n",
       "  0.07289116084575653,\n",
       "  0.09281674772500992,\n",
       "  0.07797414809465408,\n",
       "  0.09049896895885468,\n",
       "  0.08714359253644943,\n",
       "  0.08850469440221786,\n",
       "  0.09230312705039978,\n",
       "  0.09507469087839127,\n",
       "  0.10327865928411484,\n",
       "  0.13084085285663605,\n",
       "  0.11278713494539261,\n",
       "  0.1006779745221138,\n",
       "  0.11256251484155655,\n",
       "  0.12378948926925659,\n",
       "  0.12230712920427322,\n",
       "  0.12892869114875793],\n",
       " 'val_accuracy': [0.9728000164031982,\n",
       "  0.9768999814987183,\n",
       "  0.9775000214576721,\n",
       "  0.9776999950408936,\n",
       "  0.9800999760627747,\n",
       "  0.9776999950408936,\n",
       "  0.9797000288963318,\n",
       "  0.9801999926567078,\n",
       "  0.9803000092506409,\n",
       "  0.9810000061988831,\n",
       "  0.9815000295639038,\n",
       "  0.9805999994277954,\n",
       "  0.9807000160217285,\n",
       "  0.9761000275611877,\n",
       "  0.9811000227928162,\n",
       "  0.9815999865531921,\n",
       "  0.9825999736785889,\n",
       "  0.9800999760627747,\n",
       "  0.9815000295639038,\n",
       "  0.9815999865531921]}"
      ]
     },
     "execution_count": 33,
     "metadata": {},
     "output_type": "execute_result"
    }
   ],
   "source": [
    "model.history.history\n"
   ]
  },
  {
   "cell_type": "code",
   "execution_count": 34,
   "id": "aab09c3c-16e7-49b5-9ae9-6508ade7faef",
   "metadata": {},
   "outputs": [
    {
     "name": "stdout",
     "output_type": "stream",
     "text": [
      "313/313 [==============================] - 0s 2ms/step - loss: 0.1289 - accuracy: 0.9816\n"
     ]
    },
    {
     "data": {
      "text/plain": [
       "[0.12892869114875793, 0.9815999865531921]"
      ]
     },
     "execution_count": 34,
     "metadata": {},
     "output_type": "execute_result"
    }
   ],
   "source": [
    "model.evaluate(test_images, test_labels)"
   ]
  },
  {
   "cell_type": "code",
   "execution_count": 39,
   "id": "9e7c390f-eb84-49e8-baea-2e7d91894883",
   "metadata": {},
   "outputs": [
    {
     "data": {
      "text/plain": [
       "-184.0"
      ]
     },
     "execution_count": 39,
     "metadata": {},
     "output_type": "execute_result"
    }
   ],
   "source": [
    "len(test_images) * 0.9816 - 10_000"
   ]
  },
  {
   "cell_type": "code",
   "execution_count": null,
   "id": "eac4d145-200e-4401-a1b7-eb6623d50130",
   "metadata": {},
   "outputs": [],
   "source": []
  },
  {
   "cell_type": "code",
   "execution_count": null,
   "id": "3fa20fc4-2126-4c3c-bce6-d3a2ef37aab1",
   "metadata": {},
   "outputs": [],
   "source": []
  },
  {
   "cell_type": "code",
   "execution_count": 35,
   "id": "2a4da0bf-80cd-48e0-82bf-effd9be43890",
   "metadata": {},
   "outputs": [
    {
     "data": {
      "text/plain": [
       "<AxesSubplot:>"
      ]
     },
     "execution_count": 35,
     "metadata": {},
     "output_type": "execute_result"
    },
    {
     "data": {
      "image/png": "[encoded data removed]",
      "text/plain": [
       "<Figure size 1080x576 with 1 Axes>"
      ]
     },
     "metadata": {},
     "output_type": "display_data"
    }
   ],
   "source": [
    "pd.DataFrame(hist).plot(color = ['red','green','purple','teal'])"
   ]
  },
  {
   "cell_type": "code",
   "execution_count": null,
   "id": "fccd9283-6dfe-4bb6-a130-2fb7ab205356",
   "metadata": {},
   "outputs": [],
   "source": []
  },
  {
   "cell_type": "code",
   "execution_count": null,
   "id": "c9f972cd-0b08-4bb0-a014-bb06f7571fdd",
   "metadata": {},
   "outputs": [],
   "source": []
  },
  {
   "cell_type": "code",
   "execution_count": null,
   "id": "25c807c0-0f92-4c8f-835c-831c37dedafc",
   "metadata": {},
   "outputs": [],
   "source": []
  },
  {
   "cell_type": "code",
   "execution_count": 36,
   "id": "c815df56-2178-40da-bb65-76f97b4ce3e5",
   "metadata": {},
   "outputs": [
    {
     "name": "stdout",
     "output_type": "stream",
     "text": [
      "0:01:19.892024\n"
     ]
    }
   ],
   "source": [
    "print(datetime.now() - a)"
   ]
  },
  {
   "cell_type": "code",
   "execution_count": null,
   "id": "cc3897ab-6536-4dab-b8d5-b1535d66ea67",
   "metadata": {},
   "outputs": [],
   "source": []
  },
  {
   "cell_type": "code",
   "execution_count": null,
   "id": "9efe23d8-ee22-436f-a5a7-c5b541280355",
   "metadata": {},
   "outputs": [],
   "source": []
  }
 ],
 "metadata": {
  "kernelspec": {
   "display_name": "tf500",
   "language": "python",
   "name": "tf500"
  },
  "language_info": {
   "codemirror_mode": {
    "name": "ipython",
    "version": 3
   },
   "file_extension": ".py",
   "mimetype": "text/x-python",
   "name": "python",
   "nbconvert_exporter": "python",
   "pygments_lexer": "ipython3",
   "version": "3.10.0"
  }
 },
 "nbformat": 4,
 "nbformat_minor": 5
}
