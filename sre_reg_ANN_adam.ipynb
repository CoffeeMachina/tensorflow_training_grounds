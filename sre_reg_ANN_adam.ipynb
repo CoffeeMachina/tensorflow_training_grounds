{
 "cells": [
  {
   "cell_type": "markdown",
   "id": "f36b65bc-6eb2-43a7-9785-2bdc698c0787",
   "metadata": {},
   "source": [
    "# <font color ='plum'> Input - Output NN ~ Linear Regression w/ MSE optimizer </font>"
   ]
  },
  {
   "cell_type": "code",
   "execution_count": 1,
   "id": "671bf049-8cc6-4e3e-aecd-6c8e81676111",
   "metadata": {},
   "outputs": [
    {
     "name": "stdout",
     "output_type": "stream",
     "text": [
      "# GPUs:  1\n",
      "CPU times: total: 5.95 s\n",
      "Wall time: 6.57 s\n"
     ]
    }
   ],
   "source": [
    "%%time\n",
    "from datetime import datetime\n",
    "a = datetime.now()\n",
    "\n",
    "import seaborn as sns\n",
    "import matplotlib.pyplot as plt\n",
    "\n",
    "sns.set_palette(\"afmhot\")\n",
    "# sns.set_palette(\"twilight\")\n",
    "# sns.set_style(\"darkgrid\",{\"axes.facebolor\":\"0.90\"})\n",
    "sns.set_context(\"notebook\", font_scale=1.5, rc={\"lines.linewidth\":1.5})\n",
    "sns.set_style(\"whitegrid\")\n",
    "import pylab\n",
    "pylab.rcParams['figure.figsize'] = (15, 8)\n",
    "plt.style.use('dark_background')\n",
    "\n",
    "\n",
    "import tensorflow as tf\n",
    "print(\"# GPUs: \", len(tf.config.experimental.list_physical_devices(\"GPU\")))\n",
    "import numpy as np\n",
    "import tensorflow.keras as tfk\n",
    "import pandas as pd\n",
    "from tensorflow.keras.models import Sequential\n",
    "from tensorflow.keras.layers import Dense, Flatten"
   ]
  },
  {
   "cell_type": "code",
   "execution_count": 2,
   "id": "3b33c4ec-37ab-4c8e-8984-4afece3500c6",
   "metadata": {},
   "outputs": [],
   "source": [
    "df = pd.read_csv(\"C:/Users/diablo/3D Objects/YYY_Tensorflow/data/heart.data.csv\")\n",
    "df = df[[ 'biking', 'smoking', 'heart.disease']] "
   ]
  },
  {
   "cell_type": "code",
   "execution_count": 3,
   "id": "c972f45c-0c03-437b-9c93-373eb06e3db1",
   "metadata": {},
   "outputs": [
    {
     "data": {
      "text/html": [
       "<div>\n",
       "<style scoped>\n",
       "    .dataframe tbody tr th:only-of-type {\n",
       "        vertical-align: middle;\n",
       "    }\n",
       "\n",
       "    .dataframe tbody tr th {\n",
       "        vertical-align: top;\n",
       "    }\n",
       "\n",
       "    .dataframe thead th {\n",
       "        text-align: right;\n",
       "    }\n",
       "</style>\n",
       "<table border=\"1\" class=\"dataframe\">\n",
       "  <thead>\n",
       "    <tr style=\"text-align: right;\">\n",
       "      <th></th>\n",
       "      <th>biking</th>\n",
       "      <th>smoking</th>\n",
       "      <th>heart.disease</th>\n",
       "    </tr>\n",
       "  </thead>\n",
       "  <tbody>\n",
       "    <tr>\n",
       "      <th>0</th>\n",
       "      <td>30.801246</td>\n",
       "      <td>10.896608</td>\n",
       "      <td>11.769423</td>\n",
       "    </tr>\n",
       "    <tr>\n",
       "      <th>1</th>\n",
       "      <td>65.129215</td>\n",
       "      <td>2.219563</td>\n",
       "      <td>2.854081</td>\n",
       "    </tr>\n",
       "    <tr>\n",
       "      <th>2</th>\n",
       "      <td>1.959665</td>\n",
       "      <td>17.588331</td>\n",
       "      <td>17.177803</td>\n",
       "    </tr>\n",
       "  </tbody>\n",
       "</table>\n",
       "</div>"
      ],
      "text/plain": [
       "      biking    smoking  heart.disease\n",
       "0  30.801246  10.896608      11.769423\n",
       "1  65.129215   2.219563       2.854081\n",
       "2   1.959665  17.588331      17.177803"
      ]
     },
     "execution_count": 3,
     "metadata": {},
     "output_type": "execute_result"
    }
   ],
   "source": [
    "df.head(3)"
   ]
  },
  {
   "cell_type": "code",
   "execution_count": 4,
   "id": "ccf64dde-1a41-498e-a66f-7c11e1683627",
   "metadata": {},
   "outputs": [],
   "source": [
    "target = 'heart.disease'\n",
    "y=df[target].to_numpy()\n",
    "X = df.loc[:, df.columns != target]"
   ]
  },
  {
   "cell_type": "code",
   "execution_count": 5,
   "id": "6480148d-23ff-47e0-a555-24666ad3aa00",
   "metadata": {},
   "outputs": [],
   "source": [
    "from sklearn.model_selection import train_test_split\n",
    "X_train, X_test, y_train, y_test = train_test_split( X, y, test_size=0.20, random_state=48561)"
   ]
  },
  {
   "cell_type": "code",
   "execution_count": 6,
   "id": "abfca5a0-8982-471e-a293-6cda3d5cf7d8",
   "metadata": {},
   "outputs": [],
   "source": [
    "from sklearn.preprocessing import MinMaxScaler\n",
    "\n",
    "scaler=MinMaxScaler()\n",
    "X_train=scaler.fit_transform(X_train)\n",
    "\n",
    "X_test=scaler.transform(X_test)"
   ]
  },
  {
   "cell_type": "code",
   "execution_count": 7,
   "id": "3dbe6f63-5776-4d46-af5a-44ba5ddb32cc",
   "metadata": {},
   "outputs": [],
   "source": [
    "# (array([-14.81400097,   5.22417421]), 14.906953371822128) ~ Mine ()\n",
    "# (array([-14.81400097,   5.24488822]), 14.886239364884904) confirmed same with sreeni"
   ]
  },
  {
   "cell_type": "markdown",
   "id": "6dfbb2bd-2546-4a1d-a125-cbe28c7e3742",
   "metadata": {},
   "source": [
    "# <font color ='plum'> Apply NN ~ SGD </font>"
   ]
  },
  {
   "cell_type": "code",
   "execution_count": 8,
   "id": "d7bdfad0-3641-480f-8099-8639574adf1f",
   "metadata": {},
   "outputs": [],
   "source": [
    "import tensorflow.keras as tfk"
   ]
  },
  {
   "cell_type": "code",
   "execution_count": 9,
   "id": "80765241-9074-497d-9f5b-9cdc1086eae6",
   "metadata": {},
   "outputs": [],
   "source": [
    "from tensorflow.keras.layers import Dense, Activation, Dropout, Input, InputLayer\n",
    "from tensorflow.keras.optimizers import SGD"
   ]
  },
  {
   "cell_type": "code",
   "execution_count": 10,
   "id": "81a61d9b-bb0d-4865-b452-92c1d4480f03",
   "metadata": {},
   "outputs": [],
   "source": [
    "model = tfk.models.Sequential()"
   ]
  },
  {
   "cell_type": "code",
   "execution_count": 11,
   "id": "26843735-6be3-4ef8-b669-fbccb646a63d",
   "metadata": {},
   "outputs": [],
   "source": [
    "opt = SGD(learning_rate =0.1)"
   ]
  },
  {
   "cell_type": "code",
   "execution_count": 12,
   "id": "27f2654b-56c8-451a-9db4-58542d13d104",
   "metadata": {},
   "outputs": [
    {
     "data": {
      "text/plain": [
       "(398, 2)"
      ]
     },
     "execution_count": 12,
     "metadata": {},
     "output_type": "execute_result"
    }
   ],
   "source": [
    "X_train.shape"
   ]
  },
  {
   "cell_type": "code",
   "execution_count": 13,
   "id": "821ece55-abdb-4fa9-8abd-154ec7bac84c",
   "metadata": {},
   "outputs": [
    {
     "name": "stdout",
     "output_type": "stream",
     "text": [
      "Model: \"sequential\"\n",
      "_________________________________________________________________\n",
      " Layer (type)                Output Shape              Param #   \n",
      "=================================================================\n",
      " dense (Dense)               (None, 1)                 3         \n",
      "                                                                 \n",
      "=================================================================\n",
      "Total params: 3\n",
      "Trainable params: 3\n",
      "Non-trainable params: 0\n",
      "_________________________________________________________________\n",
      "None\n"
     ]
    }
   ],
   "source": [
    "model.add(InputLayer(input_shape=(X_train.shape[1],)))\n",
    "model.add(Dense(1))\n",
    "model.compile(loss='mse',optimizer='adam')\n",
    "print(model.summary())"
   ]
  },
  {
   "cell_type": "code",
   "execution_count": 14,
   "id": "05ec1467-f5ea-4d5d-a283-db5b862f29a4",
   "metadata": {},
   "outputs": [
    {
     "name": "stdout",
     "output_type": "stream",
     "text": [
      "CPU times: total: 4min 22s\n",
      "Wall time: 2min 58s\n"
     ]
    }
   ],
   "source": [
    "%%time\n",
    "history = model.fit(X_train, y_train, verbose=0,epochs=3000, validation_data = (X_test, y_test))"
   ]
  },
  {
   "cell_type": "code",
   "execution_count": 15,
   "id": "1f1e58a6-2dbe-4d07-9574-cea947e35285",
   "metadata": {},
   "outputs": [],
   "source": [
    "hist=model.history.history"
   ]
  },
  {
   "cell_type": "code",
   "execution_count": 16,
   "id": "6a304b7d-d9cb-422c-9c48-eece6e86f4d0",
   "metadata": {},
   "outputs": [
    {
     "data": {
      "text/plain": [
       "<AxesSubplot:>"
      ]
     },
     "execution_count": 16,
     "metadata": {},
     "output_type": "execute_result"
    },
    {
     "data": {
      "image/png": "[encoded data removed]",
      "text/plain": [
       "<Figure size 1080x576 with 1 Axes>"
      ]
     },
     "metadata": {},
     "output_type": "display_data"
    }
   ],
   "source": [
    "pd.DataFrame(hist).plot()"
   ]
  },
  {
   "cell_type": "code",
   "execution_count": 17,
   "id": "e0cd9803-4454-4578-82f3-21afb9f28df9",
   "metadata": {},
   "outputs": [
    {
     "data": {
      "text/plain": [
       "(array([[-14.816669 ],\n",
       "        [  5.2038393]], dtype=float32),\n",
       " array([14.912592], dtype=float32))"
      ]
     },
     "execution_count": 17,
     "metadata": {},
     "output_type": "execute_result"
    }
   ],
   "source": [
    "weights=model.layers[0].get_weights()[0]\n",
    "biases=model.layers[0].get_weights()[1]\n",
    "weights,biases"
   ]
  },
  {
   "cell_type": "code",
   "execution_count": 18,
   "id": "12040303-1456-462d-a672-dc679eb9b8d9",
   "metadata": {},
   "outputs": [],
   "source": [
    "# (array([[-14.827212 ],\n",
    "#         [  5.2242913]], dtype=float32),\n",
    "#  array([14.870144], dtype=float32))\n",
    "# ​"
   ]
  },
  {
   "cell_type": "code",
   "execution_count": 19,
   "id": "9c3ebda2-94df-4e5c-98a3-6e5ec0e97527",
   "metadata": {},
   "outputs": [
    {
     "name": "stdout",
     "output_type": "stream",
     "text": [
      "Model: \"sequential\"\n",
      "_________________________________________________________________\n",
      " Layer (type)                Output Shape              Param #   \n",
      "=================================================================\n",
      " dense (Dense)               (None, 1)                 3         \n",
      "                                                                 \n",
      "=================================================================\n",
      "Total params: 3\n",
      "Trainable params: 3\n",
      "Non-trainable params: 0\n",
      "_________________________________________________________________\n"
     ]
    }
   ],
   "source": [
    "model.summary()"
   ]
  },
  {
   "cell_type": "code",
   "execution_count": 20,
   "id": "a51b3f2f-0ff5-438e-814e-5b12cc0f6716",
   "metadata": {},
   "outputs": [
    {
     "data": {
      "text/plain": [
       "<keras.layers.core.dense.Dense at 0x261dee17580>"
      ]
     },
     "execution_count": 20,
     "metadata": {},
     "output_type": "execute_result"
    }
   ],
   "source": [
    "model.layers[0]"
   ]
  },
  {
   "cell_type": "code",
   "execution_count": 21,
   "id": "34197651-404b-4dc7-875c-333f8d153e22",
   "metadata": {},
   "outputs": [
    {
     "name": "stdout",
     "output_type": "stream",
     "text": [
      "4/4 [==============================] - 0s 2ms/step - loss: 0.4643\n"
     ]
    },
    {
     "data": {
      "text/plain": [
       "0.46426236629486084"
      ]
     },
     "execution_count": 21,
     "metadata": {},
     "output_type": "execute_result"
    }
   ],
   "source": [
    "model.evaluate(X_test,y_test)"
   ]
  },
  {
   "cell_type": "code",
   "execution_count": 29,
   "id": "f14ca206-6057-4ced-9523-3b74d6381b7e",
   "metadata": {},
   "outputs": [],
   "source": [
    "# model.save(\"sreeni_1800epochs_adam.h5\")\n",
    "# model.save(\"sreeni_3000epochs_adam.h5\")"
   ]
  },
  {
   "cell_type": "code",
   "execution_count": 23,
   "id": "d9eab3f6-695d-4b4a-95aa-96a085018731",
   "metadata": {},
   "outputs": [],
   "source": [
    "from sklearn.metrics import mean_absolute_error, mean_squared_error"
   ]
  },
  {
   "cell_type": "code",
   "execution_count": 24,
   "id": "08d45cbb-12cb-4962-95ce-4b206d907c5e",
   "metadata": {},
   "outputs": [
    {
     "name": "stdout",
     "output_type": "stream",
     "text": [
      "0.5372075498192627\n",
      "0.4642623421864783\n"
     ]
    }
   ],
   "source": [
    "pred=model.predict(X_test)\n",
    "print(mean_absolute_error(y_test, pred))\n",
    "print(mean_squared_error(y_test,pred))"
   ]
  },
  {
   "cell_type": "code",
   "execution_count": 25,
   "id": "7730f8a4-f60a-4ceb-a0cc-e512142fe728",
   "metadata": {},
   "outputs": [],
   "source": [
    "# 2.646554987403604\n",
    "# 9.869880555923517 @ 950 epochs SHITE!"
   ]
  },
  {
   "cell_type": "code",
   "execution_count": 26,
   "id": "368508f7-c0ed-4ef8-9dd2-d893787457f5",
   "metadata": {},
   "outputs": [],
   "source": [
    "# ADAM @ 1800 epochs\n",
    "# 0.7942758936001035\n",
    "# 1.0231568916884037"
   ]
  },
  {
   "cell_type": "code",
   "execution_count": 27,
   "id": "eefd99f6-f8db-4845-bf71-cae8cd187e50",
   "metadata": {},
   "outputs": [
    {
     "data": {
      "text/plain": [
       "biking           37.788411\n",
       "smoking          15.435034\n",
       "heart.disease    10.174538\n",
       "dtype: float64"
      ]
     },
     "execution_count": 27,
     "metadata": {},
     "output_type": "execute_result"
    }
   ],
   "source": [
    "df.mean()"
   ]
  },
  {
   "cell_type": "markdown",
   "id": "f336a8c3-bd62-4a54-afe5-37c9c4f2b618",
   "metadata": {},
   "source": [
    "# SGD<font color ='plum'> \n",
    "# MSE: 0.45138202063390553\n",
    "# MAE: 0.525869890771895 \n",
    "</font>"
   ]
  },
  {
   "cell_type": "code",
   "execution_count": null,
   "id": "447f450f-94da-49c3-bf88-06aa300a7d15",
   "metadata": {},
   "outputs": [],
   "source": []
  },
  {
   "cell_type": "code",
   "execution_count": 28,
   "id": "e8cdeee6-cdc5-4320-abd4-0625c886feac",
   "metadata": {},
   "outputs": [],
   "source": [
    "# (array([-14.81400097,   5.22417421]), 14.906953371822128)\n",
    "# (array([-14.81400097,   5.24488822]), 14.886239364884904) confirmed same with sreeni"
   ]
  },
  {
   "cell_type": "code",
   "execution_count": null,
   "id": "322c9b5c-5844-47b3-b3b3-eb5757a86463",
   "metadata": {},
   "outputs": [],
   "source": []
  },
  {
   "cell_type": "code",
   "execution_count": null,
   "id": "ff82f75f-b8f0-4971-80da-247b02600186",
   "metadata": {},
   "outputs": [],
   "source": []
  }
 ],
 "metadata": {
  "kernelspec": {
   "display_name": "tf500",
   "language": "python",
   "name": "tf500"
  },
  "language_info": {
   "codemirror_mode": {
    "name": "ipython",
    "version": 3
   },
   "file_extension": ".py",
   "mimetype": "text/x-python",
   "name": "python",
   "nbconvert_exporter": "python",
   "pygments_lexer": "ipython3",
   "version": "3.10.0"
  }
 },
 "nbformat": 4,
 "nbformat_minor": 5
}
